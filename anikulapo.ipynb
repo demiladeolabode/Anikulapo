{
 "cells": [
  {
   "cell_type": "markdown",
   "id": "3b1c09d1",
   "metadata": {},
   "source": [
    "## Table of Contents\n",
    "* [Introduction](#chapter1)\n",
    "* [Overview](#chapter2)\n",
    "* [Netflix Analysis](#chapter3)\n",
    "    * [Top Ten Ranking Across Countries](#section_3_1)\n",
    "    * [View Time ](#section_3_2)\n",
    "* [Twitter Analysis](#chapter4)\n",
    "    * [The Numbers](#section_4_1)\n",
    "    * [Tweets per day](#section_4_2)\n",
    "    * [Most active tweeters](#section_4_3)\n",
    "    * [Top mentions](#section_4_4)\n",
    "    * [Top Locations](#section_4_5)\n",
    "    * [Top likes and retweets](#section_4_6)\n",
    "    * [Word Cloud](#section_4_7)\n",
    "    * [Sentiments](#section_4_8)\n",
    "    * [Dashboard](#section_4_9)\n",
    "* [Google Trends Analysis](#chapter5)\n",
    "    * [Nigeria Trend](#section_5_1)\n",
    "    * [Global Trend](#section_5_2)\n",
    "* [Conclusion](#chapter6)\n",
    "    * [Time Range](#section_6_1)\n",
    "    * [Performance](#section_6_2)\n",
    "    * [Netflix](#section_6_3)\n",
    "    * [Twitter](#section_6_4)\n",
    "    * [Google Trend](#section_6_4)\n",
    "* [My Profile](#chapter7)\n"
   ]
  },
  {
   "cell_type": "markdown",
   "id": "14e2dd7e",
   "metadata": {},
   "source": [
    "## Introduction <a class=\"anchor\" id=\"chapter1\"></a>\n",
    "\n",
    "Aníkúlápó is a 2022 Nigerian epic fantasy film produced by Kunle Afolayan and distributed by Netflix. Released on 30 September 2022, it stars Kunle Remi, Bimbo Ademoye, Sola Sobowale,Hakeem Kae-Kazim and Taiwo Hassan.The film was shot in Oyo State and Afolayan has described the work as a \"Game of Thrones recreated in Nigeria but with a better representation of our culture (Yoruba culture)\".\n",
    "\n",
    "Since its release, Aníkúlápó garnered alot of comments and reviews leading to its popularity, attracting conversations from social media. This analysis explores the performance( Ratings and reviews) of the movie, since its release and what people are saying about the movie."
   ]
  },
  {
   "cell_type": "markdown",
   "id": "3df25b6e",
   "metadata": {},
   "source": [
    "## Methodology<a class=\"anchor\" id=\"chapter2\"></a>\n",
    "\n",
    "Data was collected from twitter, netfix, google e.t.c to explore the buzz around the movie on twitter, country's attraction and view time on netflix and curiosity of people on google.\n",
    "Note: The numbers in this report are not exhaustive, but a worthy sample.\n",
    "\n",
    "The time range for the analysis was between September 29 2022 (a day to its release) to October 15 2022."
   ]
  },
  {
   "cell_type": "code",
   "execution_count": 2,
   "id": "021d50de",
   "metadata": {},
   "outputs": [
    {
     "name": "stderr",
     "output_type": "stream",
     "text": [
      "[nltk_data] Error loading stopwords: <urlopen error [Errno 11001]\n",
      "[nltk_data]     getaddrinfo failed>\n",
      "[nltk_data] Error loading punkt: <urlopen error [Errno 11001]\n",
      "[nltk_data]     getaddrinfo failed>\n"
     ]
    }
   ],
   "source": [
    "# import library\n",
    "\n",
    "import pandas as pd \n",
    "import matplotlib.pyplot as plt\n",
    "import re\n",
    "import seaborn as sb\n",
    "from nltk.tokenize import sent_tokenize, word_tokenize\n",
    "import nltk\n",
    "nltk.download('stopwords')\n",
    "nltk.download('punkt')\n",
    "from nltk.corpus import stopwords\n",
    "from wordcloud import WordCloud\n",
    "from textblob import TextBlob\n",
    "import snscrape.modules.twitter as sntwitter\n",
    "import requests\n",
    "from bs4 import BeautifulSoup\n"
   ]
  },
  {
   "cell_type": "markdown",
   "id": "d365033b",
   "metadata": {},
   "source": [
    "### Reviews and Ratings \n",
    "\n",
    "- IMDB- 5.3/10\n",
    "- Google Users - 94/100\n",
    "- Common Sense Media - 3/5\n",
    "- Rotten Tomatoes(audience score) - 8/10\n"
   ]
  },
  {
   "cell_type": "markdown",
   "id": "89183a6a",
   "metadata": {},
   "source": [
    "## Netflix Analysis <a class=\"anchor\" id=\"chapter3\"></a>\n",
    "Aníkúlápó premiered on Netflix on September 30th, 2022, I collected data from Netflix to analyze top countries that streamed the movies and the weekly view time in its first 3 weeks of release."
   ]
  },
  {
   "cell_type": "code",
   "execution_count": 3,
   "id": "0411347a",
   "metadata": {},
   "outputs": [
    {
     "name": "stderr",
     "output_type": "stream",
     "text": [
      "C:\\Users\\HP\\anaconda3\\lib\\site-packages\\openpyxl\\styles\\stylesheet.py:221: UserWarning: Workbook contains no default style, apply openpyxl's default\n",
      "  warn(\"Workbook contains no default style, apply openpyxl's default\")\n"
     ]
    }
   ],
   "source": [
    "all_countries=pd.read_excel('all-weeks-countries.xlsx')"
   ]
  },
  {
   "cell_type": "code",
   "execution_count": 4,
   "id": "b464e2a1",
   "metadata": {},
   "outputs": [
    {
     "data": {
      "text/html": [
       "<div>\n",
       "<style scoped>\n",
       "    .dataframe tbody tr th:only-of-type {\n",
       "        vertical-align: middle;\n",
       "    }\n",
       "\n",
       "    .dataframe tbody tr th {\n",
       "        vertical-align: top;\n",
       "    }\n",
       "\n",
       "    .dataframe thead th {\n",
       "        text-align: right;\n",
       "    }\n",
       "</style>\n",
       "<table border=\"1\" class=\"dataframe\">\n",
       "  <thead>\n",
       "    <tr style=\"text-align: right;\">\n",
       "      <th></th>\n",
       "      <th>country_name</th>\n",
       "      <th>country_iso2</th>\n",
       "      <th>week</th>\n",
       "      <th>category</th>\n",
       "      <th>weekly_rank</th>\n",
       "      <th>show_title</th>\n",
       "      <th>season_title</th>\n",
       "      <th>cumulative_weeks_in_top_10</th>\n",
       "    </tr>\n",
       "  </thead>\n",
       "  <tbody>\n",
       "    <tr>\n",
       "      <th>0</th>\n",
       "      <td>Argentina</td>\n",
       "      <td>AR</td>\n",
       "      <td>2022-11-13</td>\n",
       "      <td>Films</td>\n",
       "      <td>1</td>\n",
       "      <td>Enola Holmes 2</td>\n",
       "      <td>NaN</td>\n",
       "      <td>2</td>\n",
       "    </tr>\n",
       "    <tr>\n",
       "      <th>1</th>\n",
       "      <td>Argentina</td>\n",
       "      <td>AR</td>\n",
       "      <td>2022-11-13</td>\n",
       "      <td>Films</td>\n",
       "      <td>2</td>\n",
       "      <td>Medieval</td>\n",
       "      <td>NaN</td>\n",
       "      <td>1</td>\n",
       "    </tr>\n",
       "    <tr>\n",
       "      <th>2</th>\n",
       "      <td>Argentina</td>\n",
       "      <td>AR</td>\n",
       "      <td>2022-11-13</td>\n",
       "      <td>Films</td>\n",
       "      <td>3</td>\n",
       "      <td>Falling for Christmas</td>\n",
       "      <td>NaN</td>\n",
       "      <td>1</td>\n",
       "    </tr>\n",
       "    <tr>\n",
       "      <th>3</th>\n",
       "      <td>Argentina</td>\n",
       "      <td>AR</td>\n",
       "      <td>2022-11-13</td>\n",
       "      <td>Films</td>\n",
       "      <td>4</td>\n",
       "      <td>The Chalk Line</td>\n",
       "      <td>NaN</td>\n",
       "      <td>2</td>\n",
       "    </tr>\n",
       "    <tr>\n",
       "      <th>4</th>\n",
       "      <td>Argentina</td>\n",
       "      <td>AR</td>\n",
       "      <td>2022-11-13</td>\n",
       "      <td>Films</td>\n",
       "      <td>5</td>\n",
       "      <td>Lost Bullet 2</td>\n",
       "      <td>NaN</td>\n",
       "      <td>1</td>\n",
       "    </tr>\n",
       "  </tbody>\n",
       "</table>\n",
       "</div>"
      ],
      "text/plain": [
       "  country_name country_iso2        week category  weekly_rank  \\\n",
       "0    Argentina           AR  2022-11-13    Films            1   \n",
       "1    Argentina           AR  2022-11-13    Films            2   \n",
       "2    Argentina           AR  2022-11-13    Films            3   \n",
       "3    Argentina           AR  2022-11-13    Films            4   \n",
       "4    Argentina           AR  2022-11-13    Films            5   \n",
       "\n",
       "              show_title season_title  cumulative_weeks_in_top_10  \n",
       "0         Enola Holmes 2          NaN                           2  \n",
       "1               Medieval          NaN                           1  \n",
       "2  Falling for Christmas          NaN                           1  \n",
       "3         The Chalk Line          NaN                           2  \n",
       "4          Lost Bullet 2          NaN                           1  "
      ]
     },
     "execution_count": 4,
     "metadata": {},
     "output_type": "execute_result"
    }
   ],
   "source": [
    "all_countries.head()"
   ]
  },
  {
   "cell_type": "code",
   "execution_count": 5,
   "id": "aff7a089",
   "metadata": {},
   "outputs": [
    {
     "name": "stdout",
     "output_type": "stream",
     "text": [
      "<class 'pandas.core.frame.DataFrame'>\n",
      "RangeIndex: 134620 entries, 0 to 134619\n",
      "Data columns (total 8 columns):\n",
      " #   Column                      Non-Null Count   Dtype \n",
      "---  ------                      --------------   ----- \n",
      " 0   country_name                134620 non-null  object\n",
      " 1   country_iso2                134620 non-null  object\n",
      " 2   week                        134620 non-null  object\n",
      " 3   category                    134620 non-null  object\n",
      " 4   weekly_rank                 134620 non-null  int64 \n",
      " 5   show_title                  134620 non-null  object\n",
      " 6   season_title                65259 non-null   object\n",
      " 7   cumulative_weeks_in_top_10  134620 non-null  int64 \n",
      "dtypes: int64(2), object(6)\n",
      "memory usage: 8.2+ MB\n"
     ]
    }
   ],
   "source": [
    "all_countries.info()"
   ]
  },
  {
   "cell_type": "code",
   "execution_count": 7,
   "id": "8180b8dc",
   "metadata": {},
   "outputs": [
    {
     "data": {
      "text/plain": [
       "0"
      ]
     },
     "execution_count": 7,
     "metadata": {},
     "output_type": "execute_result"
    }
   ],
   "source": [
    "all_countries.duplicated().sum()"
   ]
  },
  {
   "cell_type": "code",
   "execution_count": null,
   "id": "d57f70f9",
   "metadata": {},
   "outputs": [],
   "source": [
    "#filter for show_title Anikulapo "
   ]
  },
  {
   "cell_type": "code",
   "execution_count": 23,
   "id": "0d47b082",
   "metadata": {},
   "outputs": [],
   "source": [
    "copy1=all_countries[all_countries['show_title']=='Aníkúlápó']"
   ]
  },
  {
   "cell_type": "code",
   "execution_count": 24,
   "id": "5d89fcbf",
   "metadata": {},
   "outputs": [
    {
     "data": {
      "text/plain": [
       "2022-10-09    24\n",
       "2022-10-02     5\n",
       "2022-10-30     1\n",
       "2022-11-06     1\n",
       "2022-10-16     1\n",
       "2022-11-13     1\n",
       "2022-10-23     1\n",
       "Name: week, dtype: int64"
      ]
     },
     "execution_count": 24,
     "metadata": {},
     "output_type": "execute_result"
    }
   ],
   "source": [
    "copy1['week'].value_counts()"
   ]
  },
  {
   "cell_type": "code",
   "execution_count": 25,
   "id": "d353f3f5",
   "metadata": {},
   "outputs": [],
   "source": [
    "#filter for only the first 3 weeks\n",
    "copy1=copy1[(copy1['week']<='2022-10-16') & (copy1['week']>='2022-10-02')]"
   ]
  },
  {
   "cell_type": "markdown",
   "id": "903e3b76",
   "metadata": {},
   "source": [
    "### Attractions\n",
    "\n",
    "The movie attracted attention from 24  different countries in its first 3 weeks of realease."
   ]
  },
  {
   "cell_type": "code",
   "execution_count": 26,
   "id": "6fb13ec5",
   "metadata": {},
   "outputs": [
    {
     "name": "stdout",
     "output_type": "stream",
     "text": [
      "24\n"
     ]
    },
    {
     "data": {
      "text/plain": [
       "Nigeria                 3\n",
       "Guadeloupe              2\n",
       "Morocco                 2\n",
       "Martinique              2\n",
       "Réunion                 2\n",
       "Venezuela               1\n",
       "Chile                   1\n",
       "New Caledonia           1\n",
       "Brazil                  1\n",
       "Romania                 1\n",
       "Dominican Republic      1\n",
       "Poland                  1\n",
       "Saudi Arabia            1\n",
       "United Arab Emirates    1\n",
       "Israel                  1\n",
       "Bahrain                 1\n",
       "Kuwait                  1\n",
       "Peru                    1\n",
       "Paraguay                1\n",
       "Oman                    1\n",
       "Kenya                   1\n",
       "Portugal                1\n",
       "Colombia                1\n",
       "Panama                  1\n",
       "Name: country_name, dtype: int64"
      ]
     },
     "execution_count": 26,
     "metadata": {},
     "output_type": "execute_result"
    }
   ],
   "source": [
    "#involved countries \n",
    "print(len(copy1['country_name'].value_counts()))\n",
    "copy1['country_name'].value_counts()"
   ]
  },
  {
   "cell_type": "markdown",
   "id": "6bb370fd",
   "metadata": {},
   "source": [
    "### Top Ten Ranking Across Countries <a class=\"anchor\" id=\"section_3_1\"></a>\n",
    "\n",
    "Popularity of the movie increased in the 2nd week."
   ]
  },
  {
   "cell_type": "code",
   "execution_count": 28,
   "id": "d60bfa7c",
   "metadata": {},
   "outputs": [
    {
     "data": {
      "text/html": [
       "<div>\n",
       "<style scoped>\n",
       "    .dataframe tbody tr th:only-of-type {\n",
       "        vertical-align: middle;\n",
       "    }\n",
       "\n",
       "    .dataframe tbody tr th {\n",
       "        vertical-align: top;\n",
       "    }\n",
       "\n",
       "    .dataframe thead th {\n",
       "        text-align: right;\n",
       "    }\n",
       "</style>\n",
       "<table border=\"1\" class=\"dataframe\">\n",
       "  <thead>\n",
       "    <tr style=\"text-align: right;\">\n",
       "      <th>week</th>\n",
       "      <th>2022-10-02</th>\n",
       "      <th>2022-10-09</th>\n",
       "      <th>2022-10-16</th>\n",
       "    </tr>\n",
       "    <tr>\n",
       "      <th>country_name</th>\n",
       "      <th></th>\n",
       "      <th></th>\n",
       "      <th></th>\n",
       "    </tr>\n",
       "  </thead>\n",
       "  <tbody>\n",
       "    <tr>\n",
       "      <th>Nigeria</th>\n",
       "      <td>1.0</td>\n",
       "      <td>1.0</td>\n",
       "      <td>2.0</td>\n",
       "    </tr>\n",
       "    <tr>\n",
       "      <th>Martinique</th>\n",
       "      <td>6.0</td>\n",
       "      <td>3.0</td>\n",
       "      <td>NaN</td>\n",
       "    </tr>\n",
       "    <tr>\n",
       "      <th>Oman</th>\n",
       "      <td>NaN</td>\n",
       "      <td>4.0</td>\n",
       "      <td>NaN</td>\n",
       "    </tr>\n",
       "    <tr>\n",
       "      <th>Guadeloupe</th>\n",
       "      <td>6.0</td>\n",
       "      <td>4.0</td>\n",
       "      <td>NaN</td>\n",
       "    </tr>\n",
       "    <tr>\n",
       "      <th>New Caledonia</th>\n",
       "      <td>NaN</td>\n",
       "      <td>5.0</td>\n",
       "      <td>NaN</td>\n",
       "    </tr>\n",
       "    <tr>\n",
       "      <th>Morocco</th>\n",
       "      <td>9.0</td>\n",
       "      <td>5.0</td>\n",
       "      <td>NaN</td>\n",
       "    </tr>\n",
       "    <tr>\n",
       "      <th>Réunion</th>\n",
       "      <td>8.0</td>\n",
       "      <td>5.0</td>\n",
       "      <td>NaN</td>\n",
       "    </tr>\n",
       "    <tr>\n",
       "      <th>Romania</th>\n",
       "      <td>NaN</td>\n",
       "      <td>5.0</td>\n",
       "      <td>NaN</td>\n",
       "    </tr>\n",
       "    <tr>\n",
       "      <th>Peru</th>\n",
       "      <td>NaN</td>\n",
       "      <td>6.0</td>\n",
       "      <td>NaN</td>\n",
       "    </tr>\n",
       "    <tr>\n",
       "      <th>Dominican Republic</th>\n",
       "      <td>NaN</td>\n",
       "      <td>6.0</td>\n",
       "      <td>NaN</td>\n",
       "    </tr>\n",
       "  </tbody>\n",
       "</table>\n",
       "</div>"
      ],
      "text/plain": [
       "week                2022-10-02  2022-10-09  2022-10-16\n",
       "country_name                                          \n",
       "Nigeria                    1.0         1.0         2.0\n",
       "Martinique                 6.0         3.0         NaN\n",
       "Oman                       NaN         4.0         NaN\n",
       "Guadeloupe                 6.0         4.0         NaN\n",
       "New Caledonia              NaN         5.0         NaN\n",
       "Morocco                    9.0         5.0         NaN\n",
       "Réunion                    8.0         5.0         NaN\n",
       "Romania                    NaN         5.0         NaN\n",
       "Peru                       NaN         6.0         NaN\n",
       "Dominican Republic         NaN         6.0         NaN"
      ]
     },
     "execution_count": 28,
     "metadata": {},
     "output_type": "execute_result"
    }
   ],
   "source": [
    "copy1.pivot_table('weekly_rank',['country_name'], 'week').sort_values(by=['2022-10-09'], ascending=True)[:10]"
   ]
  },
  {
   "cell_type": "markdown",
   "id": "c00d55c8",
   "metadata": {},
   "source": [
    "### View Time <a class=\"anchor\" id=\"section_3_2\"></a>\n",
    "\n",
    "After a steady increase in the first and second week, the view time decreased on its 3rd week."
   ]
  },
  {
   "cell_type": "code",
   "execution_count": null,
   "id": "187c7160",
   "metadata": {},
   "outputs": [],
   "source": [
    "all_global=pd.read_excel('all-weeks-global.xlsx')"
   ]
  },
  {
   "cell_type": "code",
   "execution_count": 29,
   "id": "8ebbeca3",
   "metadata": {
    "scrolled": true
   },
   "outputs": [
    {
     "data": {
      "text/html": [
       "<div>\n",
       "<style scoped>\n",
       "    .dataframe tbody tr th:only-of-type {\n",
       "        vertical-align: middle;\n",
       "    }\n",
       "\n",
       "    .dataframe tbody tr th {\n",
       "        vertical-align: top;\n",
       "    }\n",
       "\n",
       "    .dataframe thead th {\n",
       "        text-align: right;\n",
       "    }\n",
       "</style>\n",
       "<table border=\"1\" class=\"dataframe\">\n",
       "  <thead>\n",
       "    <tr style=\"text-align: right;\">\n",
       "      <th></th>\n",
       "      <th>week</th>\n",
       "      <th>category</th>\n",
       "      <th>weekly_rank</th>\n",
       "      <th>show_title</th>\n",
       "      <th>season_title</th>\n",
       "      <th>weekly_hours_viewed</th>\n",
       "      <th>cumulative_weeks_in_top_10</th>\n",
       "    </tr>\n",
       "  </thead>\n",
       "  <tbody>\n",
       "    <tr>\n",
       "      <th>0</th>\n",
       "      <td>2022-11-13</td>\n",
       "      <td>Films (English)</td>\n",
       "      <td>1</td>\n",
       "      <td>Enola Holmes 2</td>\n",
       "      <td>NaN</td>\n",
       "      <td>62860000</td>\n",
       "      <td>2</td>\n",
       "    </tr>\n",
       "    <tr>\n",
       "      <th>1</th>\n",
       "      <td>2022-11-13</td>\n",
       "      <td>Films (English)</td>\n",
       "      <td>2</td>\n",
       "      <td>Falling for Christmas</td>\n",
       "      <td>NaN</td>\n",
       "      <td>48360000</td>\n",
       "      <td>1</td>\n",
       "    </tr>\n",
       "    <tr>\n",
       "      <th>2</th>\n",
       "      <td>2022-11-13</td>\n",
       "      <td>Films (English)</td>\n",
       "      <td>3</td>\n",
       "      <td>Enola Holmes</td>\n",
       "      <td>NaN</td>\n",
       "      <td>18650000</td>\n",
       "      <td>2</td>\n",
       "    </tr>\n",
       "    <tr>\n",
       "      <th>3</th>\n",
       "      <td>2022-11-13</td>\n",
       "      <td>Films (English)</td>\n",
       "      <td>4</td>\n",
       "      <td>Medieval</td>\n",
       "      <td>NaN</td>\n",
       "      <td>18230000</td>\n",
       "      <td>1</td>\n",
       "    </tr>\n",
       "    <tr>\n",
       "      <th>4</th>\n",
       "      <td>2022-11-13</td>\n",
       "      <td>Films (English)</td>\n",
       "      <td>5</td>\n",
       "      <td>The Good Nurse</td>\n",
       "      <td>NaN</td>\n",
       "      <td>15060000</td>\n",
       "      <td>3</td>\n",
       "    </tr>\n",
       "  </tbody>\n",
       "</table>\n",
       "</div>"
      ],
      "text/plain": [
       "         week         category  weekly_rank             show_title  \\\n",
       "0  2022-11-13  Films (English)            1         Enola Holmes 2   \n",
       "1  2022-11-13  Films (English)            2  Falling for Christmas   \n",
       "2  2022-11-13  Films (English)            3           Enola Holmes   \n",
       "3  2022-11-13  Films (English)            4               Medieval   \n",
       "4  2022-11-13  Films (English)            5         The Good Nurse   \n",
       "\n",
       "  season_title  weekly_hours_viewed  cumulative_weeks_in_top_10  \n",
       "0          NaN             62860000                           2  \n",
       "1          NaN             48360000                           1  \n",
       "2          NaN             18650000                           2  \n",
       "3          NaN             18230000                           1  \n",
       "4          NaN             15060000                           3  "
      ]
     },
     "execution_count": 29,
     "metadata": {},
     "output_type": "execute_result"
    }
   ],
   "source": [
    "all_global.head()"
   ]
  },
  {
   "cell_type": "code",
   "execution_count": 45,
   "id": "14e2e6c5",
   "metadata": {
    "scrolled": true
   },
   "outputs": [
    {
     "name": "stdout",
     "output_type": "stream",
     "text": [
      "<class 'pandas.core.frame.DataFrame'>\n",
      "RangeIndex: 2880 entries, 0 to 2879\n",
      "Data columns (total 7 columns):\n",
      " #   Column                      Non-Null Count  Dtype \n",
      "---  ------                      --------------  ----- \n",
      " 0   week                        2880 non-null   object\n",
      " 1   category                    2880 non-null   object\n",
      " 2   weekly_rank                 2880 non-null   int64 \n",
      " 3   show_title                  2880 non-null   object\n",
      " 4   season_title                1399 non-null   object\n",
      " 5   weekly_hours_viewed         2880 non-null   int64 \n",
      " 6   cumulative_weeks_in_top_10  2880 non-null   int64 \n",
      "dtypes: int64(3), object(4)\n",
      "memory usage: 157.6+ KB\n"
     ]
    }
   ],
   "source": [
    "all_global.info()"
   ]
  },
  {
   "cell_type": "code",
   "execution_count": 47,
   "id": "0e61716f",
   "metadata": {},
   "outputs": [
    {
     "data": {
      "text/plain": [
       "0"
      ]
     },
     "execution_count": 47,
     "metadata": {},
     "output_type": "execute_result"
    }
   ],
   "source": [
    "all_global.duplicated().sum()"
   ]
  },
  {
   "cell_type": "code",
   "execution_count": 34,
   "id": "af454b35",
   "metadata": {},
   "outputs": [],
   "source": [
    "copy2=all_global[all_global['show_title']=='Aníkúlápó']"
   ]
  },
  {
   "cell_type": "code",
   "execution_count": 35,
   "id": "99149d56",
   "metadata": {},
   "outputs": [],
   "source": [
    "#filter for only the first 3 weeks\n",
    "copy2=copy2[(copy2['week']<='2022-10-16') & (copy2['week']>='2022-10-02')]"
   ]
  },
  {
   "cell_type": "code",
   "execution_count": 351,
   "id": "66abff00",
   "metadata": {
    "scrolled": false
   },
   "outputs": [
    {
     "data": {
      "text/html": [
       "<div>\n",
       "<style scoped>\n",
       "    .dataframe tbody tr th:only-of-type {\n",
       "        vertical-align: middle;\n",
       "    }\n",
       "\n",
       "    .dataframe tbody tr th {\n",
       "        vertical-align: top;\n",
       "    }\n",
       "\n",
       "    .dataframe thead th {\n",
       "        text-align: right;\n",
       "    }\n",
       "</style>\n",
       "<table border=\"1\" class=\"dataframe\">\n",
       "  <thead>\n",
       "    <tr style=\"text-align: right;\">\n",
       "      <th></th>\n",
       "      <th>week</th>\n",
       "      <th>weekly_hours_viewed</th>\n",
       "    </tr>\n",
       "  </thead>\n",
       "  <tbody>\n",
       "    <tr>\n",
       "      <th>176</th>\n",
       "      <td>2022-10-16</td>\n",
       "      <td>3030000</td>\n",
       "    </tr>\n",
       "    <tr>\n",
       "      <th>210</th>\n",
       "      <td>2022-10-09</td>\n",
       "      <td>8730000</td>\n",
       "    </tr>\n",
       "    <tr>\n",
       "      <th>254</th>\n",
       "      <td>2022-10-02</td>\n",
       "      <td>2680000</td>\n",
       "    </tr>\n",
       "  </tbody>\n",
       "</table>\n",
       "</div>"
      ],
      "text/plain": [
       "           week  weekly_hours_viewed\n",
       "176  2022-10-16              3030000\n",
       "210  2022-10-09              8730000\n",
       "254  2022-10-02              2680000"
      ]
     },
     "execution_count": 351,
     "metadata": {},
     "output_type": "execute_result"
    }
   ],
   "source": [
    "copy2[['week', 'weekly_hours_viewed']]"
   ]
  },
  {
   "cell_type": "code",
   "execution_count": 366,
   "id": "37466bd2",
   "metadata": {},
   "outputs": [
    {
     "data": {
      "image/png": "[encoded data removed]",
      "text/plain": [
       "<Figure size 432x288 with 1 Axes>"
      ]
     },
     "metadata": {
      "needs_background": "light"
     },
     "output_type": "display_data"
    }
   ],
   "source": [
    "default_color = sb.color_palette()[0]\n",
    "sb.barplot(data = copy2, x='week', y='weekly_hours_viewed', color = default_color)\n",
    "x_y_t('week', 'hours', 'View Time')\n",
    "plt.show()"
   ]
  },
  {
   "cell_type": "markdown",
   "id": "db773916",
   "metadata": {},
   "source": [
    "## Twitter Analysis <a class=\"anchor\" id=\"chapter4\"></a>\n",
    "\n",
    "The series premiered on Netflix on September 30th, 2022.Twitter Data collection was between 29 September to 14 October 2022 - a total of 15 days using the keyword \"anikulapo\". Anikulapo is a popular name in Nigeria, hence I made sure to filter out users with having the name 'anikulapo' without engaging in the movie 'Anikulapo'. For example 'anikulapo_kush7' tweeted multiple times, but none of them were about the movie. Findings of analysis and a dashboard summary are presented.\n"
   ]
  },
  {
   "cell_type": "code",
   "execution_count": 178,
   "id": "ee317751",
   "metadata": {},
   "outputs": [],
   "source": [
    "''''\n",
    "# Creating list to append tweet data to\n",
    "attributes_container = []\n",
    "\n",
    "#peter obi\n",
    "# Using TwitterSearchScraper to scrape data and append tweets to list\n",
    "for tweet in sntwitter.TwitterSearchScraper('Anikulapo since:2022-09-29 until:2022-10-15').get_items():\n",
    "    attributes_container.append([tweet.user.username, tweet.date, tweet.user.location, tweet.user.followersCount,\n",
    "                                 tweet.likeCount, tweet.retweetCount, tweet.content, tweet.mentionedUsers])\n",
    "\n",
    "# Creating a dataframe to load the list\n",
    "ani_df = pd.DataFrame(attributes_container, columns=[\"User\", \"Date Created\", 'location','followers',\n",
    "                                                        \"Likes\", 'retweet', \"Tweet\", 'Mentions'])\n",
    "                                                        \n",
    "\n",
    "# save df to csv\n",
    "ani_df.to_csv(\"anikulapo.csv\", index=False)\n"
   ]
  },
  {
   "cell_type": "code",
   "execution_count": 3,
   "id": "e09b0c3f",
   "metadata": {},
   "outputs": [],
   "source": [
    "ani_df=pd.read_csv('anikulapo.csv', parse_dates=['Date Created'])"
   ]
  },
  {
   "cell_type": "code",
   "execution_count": 4,
   "id": "a8f50f50",
   "metadata": {},
   "outputs": [
    {
     "data": {
      "text/html": [
       "<div>\n",
       "<style scoped>\n",
       "    .dataframe tbody tr th:only-of-type {\n",
       "        vertical-align: middle;\n",
       "    }\n",
       "\n",
       "    .dataframe tbody tr th {\n",
       "        vertical-align: top;\n",
       "    }\n",
       "\n",
       "    .dataframe thead th {\n",
       "        text-align: right;\n",
       "    }\n",
       "</style>\n",
       "<table border=\"1\" class=\"dataframe\">\n",
       "  <thead>\n",
       "    <tr style=\"text-align: right;\">\n",
       "      <th></th>\n",
       "      <th>User</th>\n",
       "      <th>Date Created</th>\n",
       "      <th>location</th>\n",
       "      <th>followers</th>\n",
       "      <th>Likes</th>\n",
       "      <th>retweet</th>\n",
       "      <th>Tweet</th>\n",
       "      <th>Mentions</th>\n",
       "    </tr>\n",
       "  </thead>\n",
       "  <tbody>\n",
       "    <tr>\n",
       "      <th>0</th>\n",
       "      <td>DukeMotherland</td>\n",
       "      <td>2022-10-14 23:55:59+00:00</td>\n",
       "      <td>Lagos, Nigeria</td>\n",
       "      <td>3664</td>\n",
       "      <td>25</td>\n",
       "      <td>7</td>\n",
       "      <td>ARREST THE MUSIC ✊🏿\\n(Tribute to Fela Anikulap...</td>\n",
       "      <td>NaN</td>\n",
       "    </tr>\n",
       "    <tr>\n",
       "      <th>1</th>\n",
       "      <td>AyubaKudus</td>\n",
       "      <td>2022-10-14 23:46:34+00:00</td>\n",
       "      <td>NaN</td>\n",
       "      <td>307</td>\n",
       "      <td>0</td>\n",
       "      <td>0</td>\n",
       "      <td>@khalidmovic Anikulapo</td>\n",
       "      <td>[User(username='khalidmovic', id=138728457, di...</td>\n",
       "    </tr>\n",
       "    <tr>\n",
       "      <th>2</th>\n",
       "      <td>Caprifina</td>\n",
       "      <td>2022-10-14 23:44:52+00:00</td>\n",
       "      <td>Nigeria</td>\n",
       "      <td>725</td>\n",
       "      <td>1</td>\n",
       "      <td>0</td>\n",
       "      <td>Please can someone tell me the meaning of “Ani...</td>\n",
       "      <td>NaN</td>\n",
       "    </tr>\n",
       "    <tr>\n",
       "      <th>3</th>\n",
       "      <td>Rohees_</td>\n",
       "      <td>2022-10-14 23:40:59+00:00</td>\n",
       "      <td>Under the sun</td>\n",
       "      <td>2448</td>\n",
       "      <td>5</td>\n",
       "      <td>1</td>\n",
       "      <td>Anikulapo is a masterpiece, the best epic movi...</td>\n",
       "      <td>NaN</td>\n",
       "    </tr>\n",
       "    <tr>\n",
       "      <th>4</th>\n",
       "      <td>theJohnKey</td>\n",
       "      <td>2022-10-14 23:39:52+00:00</td>\n",
       "      <td>The Ville</td>\n",
       "      <td>1371</td>\n",
       "      <td>0</td>\n",
       "      <td>0</td>\n",
       "      <td>Lol this Anikulapo movie dey give Acrimony vib...</td>\n",
       "      <td>NaN</td>\n",
       "    </tr>\n",
       "    <tr>\n",
       "      <th>...</th>\n",
       "      <td>...</td>\n",
       "      <td>...</td>\n",
       "      <td>...</td>\n",
       "      <td>...</td>\n",
       "      <td>...</td>\n",
       "      <td>...</td>\n",
       "      <td>...</td>\n",
       "      <td>...</td>\n",
       "    </tr>\n",
       "    <tr>\n",
       "      <th>24391</th>\n",
       "      <td>Dammylink</td>\n",
       "      <td>2022-09-29 07:35:51+00:00</td>\n",
       "      <td>NaN</td>\n",
       "      <td>94</td>\n",
       "      <td>0</td>\n",
       "      <td>0</td>\n",
       "      <td>@DailyPostNGR Fela Anikulapo warned us in his ...</td>\n",
       "      <td>[User(username='DailyPostNGR', id=413428207, d...</td>\n",
       "    </tr>\n",
       "    <tr>\n",
       "      <th>24392</th>\n",
       "      <td>loadedtuneng</td>\n",
       "      <td>2022-09-29 07:32:29+00:00</td>\n",
       "      <td>Lagos, Nigeria</td>\n",
       "      <td>101</td>\n",
       "      <td>0</td>\n",
       "      <td>0</td>\n",
       "      <td>ANIKULAPO – latest yoruba movie 2022 https://t...</td>\n",
       "      <td>NaN</td>\n",
       "    </tr>\n",
       "    <tr>\n",
       "      <th>24393</th>\n",
       "      <td>MsFisayo</td>\n",
       "      <td>2022-09-29 05:35:00+00:00</td>\n",
       "      <td>Abroad with 24hrs Light</td>\n",
       "      <td>4533</td>\n",
       "      <td>0</td>\n",
       "      <td>2</td>\n",
       "      <td>I’m looking forward to #Anikulapo more than an...</td>\n",
       "      <td>NaN</td>\n",
       "    </tr>\n",
       "    <tr>\n",
       "      <th>24394</th>\n",
       "      <td>LarraAimar</td>\n",
       "      <td>2022-09-29 05:18:25+00:00</td>\n",
       "      <td>⛰️</td>\n",
       "      <td>88</td>\n",
       "      <td>2</td>\n",
       "      <td>0</td>\n",
       "      <td>Inédita imagen de yo saltando a través de la v...</td>\n",
       "      <td>NaN</td>\n",
       "    </tr>\n",
       "    <tr>\n",
       "      <th>24395</th>\n",
       "      <td>Kalakuta77</td>\n",
       "      <td>2022-09-29 00:02:28+00:00</td>\n",
       "      <td>Wherever United Play</td>\n",
       "      <td>5624</td>\n",
       "      <td>0</td>\n",
       "      <td>0</td>\n",
       "      <td>Beast Of No Nation ( BONN)\\n\\n—- Black Preside...</td>\n",
       "      <td>NaN</td>\n",
       "    </tr>\n",
       "  </tbody>\n",
       "</table>\n",
       "<p>24396 rows × 8 columns</p>\n",
       "</div>"
      ],
      "text/plain": [
       "                 User              Date Created                 location  \\\n",
       "0      DukeMotherland 2022-10-14 23:55:59+00:00           Lagos, Nigeria   \n",
       "1          AyubaKudus 2022-10-14 23:46:34+00:00                      NaN   \n",
       "2           Caprifina 2022-10-14 23:44:52+00:00                  Nigeria   \n",
       "3             Rohees_ 2022-10-14 23:40:59+00:00            Under the sun   \n",
       "4          theJohnKey 2022-10-14 23:39:52+00:00                The Ville   \n",
       "...               ...                       ...                      ...   \n",
       "24391       Dammylink 2022-09-29 07:35:51+00:00                      NaN   \n",
       "24392    loadedtuneng 2022-09-29 07:32:29+00:00           Lagos, Nigeria   \n",
       "24393        MsFisayo 2022-09-29 05:35:00+00:00  Abroad with 24hrs Light   \n",
       "24394      LarraAimar 2022-09-29 05:18:25+00:00                       ⛰️   \n",
       "24395      Kalakuta77 2022-09-29 00:02:28+00:00     Wherever United Play   \n",
       "\n",
       "       followers  Likes  retweet  \\\n",
       "0           3664     25        7   \n",
       "1            307      0        0   \n",
       "2            725      1        0   \n",
       "3           2448      5        1   \n",
       "4           1371      0        0   \n",
       "...          ...    ...      ...   \n",
       "24391         94      0        0   \n",
       "24392        101      0        0   \n",
       "24393       4533      0        2   \n",
       "24394         88      2        0   \n",
       "24395       5624      0        0   \n",
       "\n",
       "                                                   Tweet  \\\n",
       "0      ARREST THE MUSIC ✊🏿\\n(Tribute to Fela Anikulap...   \n",
       "1                                 @khalidmovic Anikulapo   \n",
       "2      Please can someone tell me the meaning of “Ani...   \n",
       "3      Anikulapo is a masterpiece, the best epic movi...   \n",
       "4      Lol this Anikulapo movie dey give Acrimony vib...   \n",
       "...                                                  ...   \n",
       "24391  @DailyPostNGR Fela Anikulapo warned us in his ...   \n",
       "24392  ANIKULAPO – latest yoruba movie 2022 https://t...   \n",
       "24393  I’m looking forward to #Anikulapo more than an...   \n",
       "24394  Inédita imagen de yo saltando a través de la v...   \n",
       "24395  Beast Of No Nation ( BONN)\\n\\n—- Black Preside...   \n",
       "\n",
       "                                                Mentions  \n",
       "0                                                    NaN  \n",
       "1      [User(username='khalidmovic', id=138728457, di...  \n",
       "2                                                    NaN  \n",
       "3                                                    NaN  \n",
       "4                                                    NaN  \n",
       "...                                                  ...  \n",
       "24391  [User(username='DailyPostNGR', id=413428207, d...  \n",
       "24392                                                NaN  \n",
       "24393                                                NaN  \n",
       "24394                                                NaN  \n",
       "24395                                                NaN  \n",
       "\n",
       "[24396 rows x 8 columns]"
      ]
     },
     "execution_count": 4,
     "metadata": {},
     "output_type": "execute_result"
    }
   ],
   "source": [
    "ani_df"
   ]
  },
  {
   "cell_type": "code",
   "execution_count": 5,
   "id": "25f82dab",
   "metadata": {},
   "outputs": [
    {
     "data": {
      "text/plain": [
       "1"
      ]
     },
     "execution_count": 5,
     "metadata": {},
     "output_type": "execute_result"
    }
   ],
   "source": [
    "ani_df.duplicated().sum()"
   ]
  },
  {
   "cell_type": "code",
   "execution_count": 6,
   "id": "603577f4",
   "metadata": {},
   "outputs": [
    {
     "data": {
      "text/plain": [
       "User                0\n",
       "Date Created        0\n",
       "location         5821\n",
       "followers           0\n",
       "Likes               0\n",
       "retweet             0\n",
       "Tweet               0\n",
       "Mentions        18636\n",
       "dtype: int64"
      ]
     },
     "execution_count": 6,
     "metadata": {},
     "output_type": "execute_result"
    }
   ],
   "source": [
    "ani_df.isna().sum()"
   ]
  },
  {
   "cell_type": "code",
   "execution_count": 7,
   "id": "5e6357fe",
   "metadata": {
    "scrolled": true
   },
   "outputs": [
    {
     "name": "stdout",
     "output_type": "stream",
     "text": [
      "<class 'pandas.core.frame.DataFrame'>\n",
      "RangeIndex: 24396 entries, 0 to 24395\n",
      "Data columns (total 8 columns):\n",
      " #   Column        Non-Null Count  Dtype              \n",
      "---  ------        --------------  -----              \n",
      " 0   User          24396 non-null  object             \n",
      " 1   Date Created  24396 non-null  datetime64[ns, UTC]\n",
      " 2   location      18575 non-null  object             \n",
      " 3   followers     24396 non-null  int64              \n",
      " 4   Likes         24396 non-null  int64              \n",
      " 5   retweet       24396 non-null  int64              \n",
      " 6   Tweet         24396 non-null  object             \n",
      " 7   Mentions      5760 non-null   object             \n",
      "dtypes: datetime64[ns, UTC](1), int64(3), object(4)\n",
      "memory usage: 1.5+ MB\n"
     ]
    }
   ],
   "source": [
    "ani_df.info()"
   ]
  },
  {
   "cell_type": "code",
   "execution_count": 8,
   "id": "457b1061",
   "metadata": {},
   "outputs": [
    {
     "data": {
      "text/html": [
       "<div>\n",
       "<style scoped>\n",
       "    .dataframe tbody tr th:only-of-type {\n",
       "        vertical-align: middle;\n",
       "    }\n",
       "\n",
       "    .dataframe tbody tr th {\n",
       "        vertical-align: top;\n",
       "    }\n",
       "\n",
       "    .dataframe thead th {\n",
       "        text-align: right;\n",
       "    }\n",
       "</style>\n",
       "<table border=\"1\" class=\"dataframe\">\n",
       "  <thead>\n",
       "    <tr style=\"text-align: right;\">\n",
       "      <th></th>\n",
       "      <th>User</th>\n",
       "      <th>Date Created</th>\n",
       "      <th>location</th>\n",
       "      <th>followers</th>\n",
       "      <th>Likes</th>\n",
       "      <th>retweet</th>\n",
       "      <th>Tweet</th>\n",
       "      <th>Mentions</th>\n",
       "    </tr>\n",
       "  </thead>\n",
       "  <tbody>\n",
       "    <tr>\n",
       "      <th>406</th>\n",
       "      <td>anikulapo_kush7</td>\n",
       "      <td>2022-10-13 18:38:17+00:00</td>\n",
       "      <td>Blockchain</td>\n",
       "      <td>6</td>\n",
       "      <td>1</td>\n",
       "      <td>0</td>\n",
       "      <td>🌗🚨 https://t.co/FrAYoq5kBc</td>\n",
       "      <td>NaN</td>\n",
       "    </tr>\n",
       "    <tr>\n",
       "      <th>413</th>\n",
       "      <td>anikulapo_kush7</td>\n",
       "      <td>2022-10-13 18:28:14+00:00</td>\n",
       "      <td>Blockchain</td>\n",
       "      <td>6</td>\n",
       "      <td>0</td>\n",
       "      <td>0</td>\n",
       "      <td>@bod_republic Kai na 😓</td>\n",
       "      <td>[User(username='bod_republic', id=3138923027, ...</td>\n",
       "    </tr>\n",
       "    <tr>\n",
       "      <th>416</th>\n",
       "      <td>anikulapo_kush7</td>\n",
       "      <td>2022-10-13 18:20:02+00:00</td>\n",
       "      <td>Blockchain</td>\n",
       "      <td>6</td>\n",
       "      <td>0</td>\n",
       "      <td>0</td>\n",
       "      <td>@helen_suzzy Violence 🚨</td>\n",
       "      <td>[User(username='helen_suzzy', id=1514396937142...</td>\n",
       "    </tr>\n",
       "    <tr>\n",
       "      <th>417</th>\n",
       "      <td>anikulapo_kush7</td>\n",
       "      <td>2022-10-13 18:19:47+00:00</td>\n",
       "      <td>Blockchain</td>\n",
       "      <td>6</td>\n",
       "      <td>0</td>\n",
       "      <td>0</td>\n",
       "      <td>@helen_suzzy Haaa 😂</td>\n",
       "      <td>[User(username='helen_suzzy', id=1514396937142...</td>\n",
       "    </tr>\n",
       "    <tr>\n",
       "      <th>425</th>\n",
       "      <td>anikulapo_kush7</td>\n",
       "      <td>2022-10-13 18:03:47+00:00</td>\n",
       "      <td>Blockchain</td>\n",
       "      <td>6</td>\n",
       "      <td>1</td>\n",
       "      <td>0</td>\n",
       "      <td>@moyesolowo @boy_director Tbh the guy try 🌚✌️💯</td>\n",
       "      <td>[User(username='moyesolowo', id=10337822901057...</td>\n",
       "    </tr>\n",
       "    <tr>\n",
       "      <th>428</th>\n",
       "      <td>anikulapo_kush7</td>\n",
       "      <td>2022-10-13 18:00:24+00:00</td>\n",
       "      <td>Blockchain</td>\n",
       "      <td>6</td>\n",
       "      <td>0</td>\n",
       "      <td>0</td>\n",
       "      <td>@boy_director Ohh 😮 well bonze is trying to be...</td>\n",
       "      <td>[User(username='boy_director', id=793789790, d...</td>\n",
       "    </tr>\n",
       "    <tr>\n",
       "      <th>431</th>\n",
       "      <td>anikulapo_kush7</td>\n",
       "      <td>2022-10-13 17:46:18+00:00</td>\n",
       "      <td>Blockchain</td>\n",
       "      <td>6</td>\n",
       "      <td>1</td>\n",
       "      <td>0</td>\n",
       "      <td>#NewProfilePic https://t.co/3lArQ0FsRR</td>\n",
       "      <td>NaN</td>\n",
       "    </tr>\n",
       "    <tr>\n",
       "      <th>902</th>\n",
       "      <td>Anikulap0</td>\n",
       "      <td>2022-10-12 15:12:09+00:00</td>\n",
       "      <td>Trenches</td>\n",
       "      <td>9953</td>\n",
       "      <td>3</td>\n",
       "      <td>1</td>\n",
       "      <td>LAPO are after my life,  AnikuLAPO 😭</td>\n",
       "      <td>NaN</td>\n",
       "    </tr>\n",
       "    <tr>\n",
       "      <th>1501</th>\n",
       "      <td>TheAnikulapo</td>\n",
       "      <td>2022-10-11 08:56:27+00:00</td>\n",
       "      <td>Odogwu marine.</td>\n",
       "      <td>68</td>\n",
       "      <td>0</td>\n",
       "      <td>0</td>\n",
       "      <td>I AM THE REAL ANIKULAPO.... I'm the remnant of...</td>\n",
       "      <td>NaN</td>\n",
       "    </tr>\n",
       "    <tr>\n",
       "      <th>6771</th>\n",
       "      <td>Anikulap0</td>\n",
       "      <td>2022-10-06 12:09:42+00:00</td>\n",
       "      <td>Trenches</td>\n",
       "      <td>9953</td>\n",
       "      <td>2</td>\n",
       "      <td>0</td>\n",
       "      <td>30mins into this Anikulapo movie and I can alr...</td>\n",
       "      <td>NaN</td>\n",
       "    </tr>\n",
       "    <tr>\n",
       "      <th>8489</th>\n",
       "      <td>AnikulapoFilm</td>\n",
       "      <td>2022-10-05 12:18:09+00:00</td>\n",
       "      <td>London, England</td>\n",
       "      <td>5</td>\n",
       "      <td>1</td>\n",
       "      <td>0</td>\n",
       "      <td>Saro in Anikulapo. https://t.co/xVKFN49K3B</td>\n",
       "      <td>NaN</td>\n",
       "    </tr>\n",
       "    <tr>\n",
       "      <th>9232</th>\n",
       "      <td>Anikulapo_kuti</td>\n",
       "      <td>2022-10-05 04:08:11+00:00</td>\n",
       "      <td>NaN</td>\n",
       "      <td>528</td>\n",
       "      <td>0</td>\n",
       "      <td>0</td>\n",
       "      <td>Woman king Elizabeth 🤣</td>\n",
       "      <td>NaN</td>\n",
       "    </tr>\n",
       "    <tr>\n",
       "      <th>17282</th>\n",
       "      <td>TheAnikulapo</td>\n",
       "      <td>2022-10-02 17:11:16+00:00</td>\n",
       "      <td>Odogwu marine.</td>\n",
       "      <td>68</td>\n",
       "      <td>1</td>\n",
       "      <td>1</td>\n",
       "      <td>Fela Anikulapo Kuti... Without doubt https://t...</td>\n",
       "      <td>NaN</td>\n",
       "    </tr>\n",
       "  </tbody>\n",
       "</table>\n",
       "</div>"
      ],
      "text/plain": [
       "                  User              Date Created         location  followers  \\\n",
       "406    anikulapo_kush7 2022-10-13 18:38:17+00:00       Blockchain          6   \n",
       "413    anikulapo_kush7 2022-10-13 18:28:14+00:00       Blockchain          6   \n",
       "416    anikulapo_kush7 2022-10-13 18:20:02+00:00       Blockchain          6   \n",
       "417    anikulapo_kush7 2022-10-13 18:19:47+00:00       Blockchain          6   \n",
       "425    anikulapo_kush7 2022-10-13 18:03:47+00:00       Blockchain          6   \n",
       "428    anikulapo_kush7 2022-10-13 18:00:24+00:00       Blockchain          6   \n",
       "431    anikulapo_kush7 2022-10-13 17:46:18+00:00       Blockchain          6   \n",
       "902          Anikulap0 2022-10-12 15:12:09+00:00         Trenches       9953   \n",
       "1501      TheAnikulapo 2022-10-11 08:56:27+00:00   Odogwu marine.         68   \n",
       "6771         Anikulap0 2022-10-06 12:09:42+00:00         Trenches       9953   \n",
       "8489     AnikulapoFilm 2022-10-05 12:18:09+00:00  London, England          5   \n",
       "9232    Anikulapo_kuti 2022-10-05 04:08:11+00:00              NaN        528   \n",
       "17282     TheAnikulapo 2022-10-02 17:11:16+00:00   Odogwu marine.         68   \n",
       "\n",
       "       Likes  retweet                                              Tweet  \\\n",
       "406        1        0                         🌗🚨 https://t.co/FrAYoq5kBc   \n",
       "413        0        0                             @bod_republic Kai na 😓   \n",
       "416        0        0                            @helen_suzzy Violence 🚨   \n",
       "417        0        0                                @helen_suzzy Haaa 😂   \n",
       "425        1        0     @moyesolowo @boy_director Tbh the guy try 🌚✌️💯   \n",
       "428        0        0  @boy_director Ohh 😮 well bonze is trying to be...   \n",
       "431        1        0             #NewProfilePic https://t.co/3lArQ0FsRR   \n",
       "902        3        1               LAPO are after my life,  AnikuLAPO 😭   \n",
       "1501       0        0  I AM THE REAL ANIKULAPO.... I'm the remnant of...   \n",
       "6771       2        0  30mins into this Anikulapo movie and I can alr...   \n",
       "8489       1        0         Saro in Anikulapo. https://t.co/xVKFN49K3B   \n",
       "9232       0        0                             Woman king Elizabeth 🤣   \n",
       "17282      1        1  Fela Anikulapo Kuti... Without doubt https://t...   \n",
       "\n",
       "                                                Mentions  \n",
       "406                                                  NaN  \n",
       "413    [User(username='bod_republic', id=3138923027, ...  \n",
       "416    [User(username='helen_suzzy', id=1514396937142...  \n",
       "417    [User(username='helen_suzzy', id=1514396937142...  \n",
       "425    [User(username='moyesolowo', id=10337822901057...  \n",
       "428    [User(username='boy_director', id=793789790, d...  \n",
       "431                                                  NaN  \n",
       "902                                                  NaN  \n",
       "1501                                                 NaN  \n",
       "6771                                                 NaN  \n",
       "8489                                                 NaN  \n",
       "9232                                                 NaN  \n",
       "17282                                                NaN  "
      ]
     },
     "execution_count": 8,
     "metadata": {},
     "output_type": "execute_result"
    }
   ],
   "source": [
    "ani_df[(ani_df['User'].str.lower().str.contains('aniku'))]"
   ]
  },
  {
   "cell_type": "markdown",
   "id": "3c081c15",
   "metadata": {},
   "source": [
    "### Text Cleaning"
   ]
  },
  {
   "cell_type": "code",
   "execution_count": 10,
   "id": "585ca3d9",
   "metadata": {},
   "outputs": [],
   "source": [
    "# Make a copy of original pieces of data\n",
    "copy1=ani_df.copy()"
   ]
  },
  {
   "cell_type": "code",
   "execution_count": 11,
   "id": "7dab5f3f",
   "metadata": {},
   "outputs": [],
   "source": [
    "#Exclude tweet containing anikulapo that isnt about the movie \n",
    "copy1=copy1[(copy1['User'].str.lower().str.contains('anikulapo_kush7')==False) &\n",
    "      (copy1['User'].str.lower().str.contains('kinganikulapo')==False) &\n",
    "     (copy1['User'].str.lower().str.contains('TheAnikulapo')==False) &\n",
    "      (copy1['User'].str.lower().str.contains('Anikulapo_kuti')==False)]"
   ]
  },
  {
   "cell_type": "code",
   "execution_count": 12,
   "id": "482840dd",
   "metadata": {},
   "outputs": [],
   "source": [
    "#drop duplicates\n",
    "copy1.drop_duplicates(inplace=True)"
   ]
  },
  {
   "cell_type": "code",
   "execution_count": 13,
   "id": "9bb51a2c",
   "metadata": {
    "scrolled": true
   },
   "outputs": [],
   "source": [
    "#convert tweets to lower case\n",
    "copy1['tweet']=copy1['Tweet'].str.lower()"
   ]
  },
  {
   "cell_type": "code",
   "execution_count": 14,
   "id": "76607d6a",
   "metadata": {},
   "outputs": [],
   "source": [
    "#Clean the text \n",
    "\n",
    "#Create a function to clean the tweets\n",
    "\n",
    "def cleanTxt(text):\n",
    "    \n",
    "    #Remove keyword\n",
    "    text=re.sub(r'anikulapo', '', text) \n",
    "    #Remove @mentions\n",
    "    text=re.sub(r'@[A-Za-z0-9]+', '', text) \n",
    "    #Remove hashtags\n",
    "    text=re.sub(r'#', '', text) \n",
    "    #Remove underscores\n",
    "    text=re.sub(r'_', '', text) \n",
    "    #Remove retweets\n",
    "    text=re.sub(r'RT[\\s]+', '', text) \n",
    "    #Remove hyperlinks\n",
    "    text=re.sub(r'https?:\\/\\/\\S+', '', text) \n",
    "    #Remove punctuations\n",
    "    text=re.sub(r'[^\\w\\s]', '', text)\n",
    "    \n",
    "    return text\n",
    "\n",
    "copy1['tweet']=copy1['tweet'].apply(cleanTxt)"
   ]
  },
  {
   "cell_type": "code",
   "execution_count": 15,
   "id": "42b1a20c",
   "metadata": {},
   "outputs": [
    {
     "name": "stderr",
     "output_type": "stream",
     "text": [
      "[nltk_data] Error loading punkt: <urlopen error [Errno 11001]\n",
      "[nltk_data]     getaddrinfo failed>\n"
     ]
    }
   ],
   "source": [
    "# Tokenization \n",
    "nltk.download('punkt')\n",
    "\n",
    "#tokenize \n",
    "copy1['tweet'] = copy1.apply(lambda row: nltk.word_tokenize(row['tweet']), axis=1)"
   ]
  },
  {
   "cell_type": "code",
   "execution_count": 16,
   "id": "42065aff",
   "metadata": {},
   "outputs": [],
   "source": [
    "#stop words \n",
    "stop = stopwords.words('english')\n",
    "\n",
    "copy1['tweet'] = copy1['tweet'].apply(lambda x: [item for item in x if item not in stop])"
   ]
  },
  {
   "cell_type": "code",
   "execution_count": 60,
   "id": "7e1c7e51",
   "metadata": {},
   "outputs": [
    {
     "data": {
      "text/html": [
       "<div>\n",
       "<style scoped>\n",
       "    .dataframe tbody tr th:only-of-type {\n",
       "        vertical-align: middle;\n",
       "    }\n",
       "\n",
       "    .dataframe tbody tr th {\n",
       "        vertical-align: top;\n",
       "    }\n",
       "\n",
       "    .dataframe thead th {\n",
       "        text-align: right;\n",
       "    }\n",
       "</style>\n",
       "<table border=\"1\" class=\"dataframe\">\n",
       "  <thead>\n",
       "    <tr style=\"text-align: right;\">\n",
       "      <th></th>\n",
       "      <th>User</th>\n",
       "      <th>Date Created</th>\n",
       "      <th>location</th>\n",
       "      <th>followers</th>\n",
       "      <th>Likes</th>\n",
       "      <th>retweet</th>\n",
       "      <th>Tweet</th>\n",
       "      <th>Mentions</th>\n",
       "      <th>tweet</th>\n",
       "      <th>mentions</th>\n",
       "      <th>subjectivity</th>\n",
       "      <th>polarity</th>\n",
       "      <th>sentiment</th>\n",
       "    </tr>\n",
       "  </thead>\n",
       "  <tbody>\n",
       "    <tr>\n",
       "      <th>0</th>\n",
       "      <td>DukeMotherland</td>\n",
       "      <td>2022-10-14 23:55:59+00:00</td>\n",
       "      <td>Lagos, Nigeria</td>\n",
       "      <td>3664</td>\n",
       "      <td>25</td>\n",
       "      <td>7</td>\n",
       "      <td>ARREST THE MUSIC ✊🏿\\n(Tribute to Fela Anikulap...</td>\n",
       "      <td>NaN</td>\n",
       "      <td>[arrest, music, tribute, fela, kuti, would, 84...</td>\n",
       "      <td></td>\n",
       "      <td>0.122222</td>\n",
       "      <td>0.072222</td>\n",
       "      <td>positive</td>\n",
       "    </tr>\n",
       "    <tr>\n",
       "      <th>1</th>\n",
       "      <td>AyubaKudus</td>\n",
       "      <td>2022-10-14 23:46:34+00:00</td>\n",
       "      <td>NaN</td>\n",
       "      <td>307</td>\n",
       "      <td>0</td>\n",
       "      <td>0</td>\n",
       "      <td>@khalidmovic Anikulapo</td>\n",
       "      <td>[User(username='khalidmovic', id=138728457, di...</td>\n",
       "      <td>[]</td>\n",
       "      <td>khalidmovic</td>\n",
       "      <td>0.000000</td>\n",
       "      <td>0.000000</td>\n",
       "      <td>neutral</td>\n",
       "    </tr>\n",
       "    <tr>\n",
       "      <th>2</th>\n",
       "      <td>Caprifina</td>\n",
       "      <td>2022-10-14 23:44:52+00:00</td>\n",
       "      <td>Nigeria</td>\n",
       "      <td>725</td>\n",
       "      <td>1</td>\n",
       "      <td>0</td>\n",
       "      <td>Please can someone tell me the meaning of “Ani...</td>\n",
       "      <td>NaN</td>\n",
       "      <td>[please, someone, tell, meaning, curious]</td>\n",
       "      <td></td>\n",
       "      <td>1.000000</td>\n",
       "      <td>-0.100000</td>\n",
       "      <td>negative</td>\n",
       "    </tr>\n",
       "    <tr>\n",
       "      <th>3</th>\n",
       "      <td>Rohees_</td>\n",
       "      <td>2022-10-14 23:40:59+00:00</td>\n",
       "      <td>Under the sun</td>\n",
       "      <td>2448</td>\n",
       "      <td>5</td>\n",
       "      <td>1</td>\n",
       "      <td>Anikulapo is a masterpiece, the best epic movi...</td>\n",
       "      <td>NaN</td>\n",
       "      <td>[masterpiece, best, epic, movie, far]</td>\n",
       "      <td></td>\n",
       "      <td>0.566667</td>\n",
       "      <td>0.400000</td>\n",
       "      <td>positive</td>\n",
       "    </tr>\n",
       "    <tr>\n",
       "      <th>4</th>\n",
       "      <td>theJohnKey</td>\n",
       "      <td>2022-10-14 23:39:52+00:00</td>\n",
       "      <td>The Ville</td>\n",
       "      <td>1371</td>\n",
       "      <td>0</td>\n",
       "      <td>0</td>\n",
       "      <td>Lol this Anikulapo movie dey give Acrimony vib...</td>\n",
       "      <td>NaN</td>\n",
       "      <td>[lol, movie, dey, give, acrimony, vibes, na, e...</td>\n",
       "      <td></td>\n",
       "      <td>0.700000</td>\n",
       "      <td>0.800000</td>\n",
       "      <td>positive</td>\n",
       "    </tr>\n",
       "    <tr>\n",
       "      <th>...</th>\n",
       "      <td>...</td>\n",
       "      <td>...</td>\n",
       "      <td>...</td>\n",
       "      <td>...</td>\n",
       "      <td>...</td>\n",
       "      <td>...</td>\n",
       "      <td>...</td>\n",
       "      <td>...</td>\n",
       "      <td>...</td>\n",
       "      <td>...</td>\n",
       "      <td>...</td>\n",
       "      <td>...</td>\n",
       "      <td>...</td>\n",
       "    </tr>\n",
       "    <tr>\n",
       "      <th>24391</th>\n",
       "      <td>Dammylink</td>\n",
       "      <td>2022-09-29 07:35:51+00:00</td>\n",
       "      <td>NaN</td>\n",
       "      <td>94</td>\n",
       "      <td>0</td>\n",
       "      <td>0</td>\n",
       "      <td>@DailyPostNGR Fela Anikulapo warned us in his ...</td>\n",
       "      <td>[User(username='DailyPostNGR', id=413428207, d...</td>\n",
       "      <td>[fela, warned, us, 70, amp, 80s, album, still,...</td>\n",
       "      <td>DailyPostNGR</td>\n",
       "      <td>0.000000</td>\n",
       "      <td>0.000000</td>\n",
       "      <td>neutral</td>\n",
       "    </tr>\n",
       "    <tr>\n",
       "      <th>24392</th>\n",
       "      <td>loadedtuneng</td>\n",
       "      <td>2022-09-29 07:32:29+00:00</td>\n",
       "      <td>Lagos, Nigeria</td>\n",
       "      <td>101</td>\n",
       "      <td>0</td>\n",
       "      <td>0</td>\n",
       "      <td>ANIKULAPO – latest yoruba movie 2022 https://t...</td>\n",
       "      <td>NaN</td>\n",
       "      <td>[latest, yoruba, movie, 2022]</td>\n",
       "      <td></td>\n",
       "      <td>0.900000</td>\n",
       "      <td>0.500000</td>\n",
       "      <td>positive</td>\n",
       "    </tr>\n",
       "    <tr>\n",
       "      <th>24393</th>\n",
       "      <td>MsFisayo</td>\n",
       "      <td>2022-09-29 05:35:00+00:00</td>\n",
       "      <td>Abroad with 24hrs Light</td>\n",
       "      <td>4533</td>\n",
       "      <td>0</td>\n",
       "      <td>2</td>\n",
       "      <td>I’m looking forward to #Anikulapo more than an...</td>\n",
       "      <td>NaN</td>\n",
       "      <td>[im, looking, forward, anything, weekend, miss...</td>\n",
       "      <td></td>\n",
       "      <td>0.000000</td>\n",
       "      <td>0.000000</td>\n",
       "      <td>neutral</td>\n",
       "    </tr>\n",
       "    <tr>\n",
       "      <th>24394</th>\n",
       "      <td>LarraAimar</td>\n",
       "      <td>2022-09-29 05:18:25+00:00</td>\n",
       "      <td>⛰️</td>\n",
       "      <td>88</td>\n",
       "      <td>2</td>\n",
       "      <td>0</td>\n",
       "      <td>Inédita imagen de yo saltando a través de la v...</td>\n",
       "      <td>NaN</td>\n",
       "      <td>[inédita, imagen, de, yo, saltando, través, de...</td>\n",
       "      <td></td>\n",
       "      <td>0.000000</td>\n",
       "      <td>0.000000</td>\n",
       "      <td>neutral</td>\n",
       "    </tr>\n",
       "    <tr>\n",
       "      <th>24395</th>\n",
       "      <td>Kalakuta77</td>\n",
       "      <td>2022-09-29 00:02:28+00:00</td>\n",
       "      <td>Wherever United Play</td>\n",
       "      <td>5624</td>\n",
       "      <td>0</td>\n",
       "      <td>0</td>\n",
       "      <td>Beast Of No Nation ( BONN)\\n\\n—- Black Preside...</td>\n",
       "      <td>NaN</td>\n",
       "      <td>[beast, nation, bonn, black, president, abami,...</td>\n",
       "      <td></td>\n",
       "      <td>0.433333</td>\n",
       "      <td>-0.166667</td>\n",
       "      <td>negative</td>\n",
       "    </tr>\n",
       "  </tbody>\n",
       "</table>\n",
       "<p>24388 rows × 13 columns</p>\n",
       "</div>"
      ],
      "text/plain": [
       "                 User              Date Created                 location  \\\n",
       "0      DukeMotherland 2022-10-14 23:55:59+00:00           Lagos, Nigeria   \n",
       "1          AyubaKudus 2022-10-14 23:46:34+00:00                      NaN   \n",
       "2           Caprifina 2022-10-14 23:44:52+00:00                  Nigeria   \n",
       "3             Rohees_ 2022-10-14 23:40:59+00:00            Under the sun   \n",
       "4          theJohnKey 2022-10-14 23:39:52+00:00                The Ville   \n",
       "...               ...                       ...                      ...   \n",
       "24391       Dammylink 2022-09-29 07:35:51+00:00                      NaN   \n",
       "24392    loadedtuneng 2022-09-29 07:32:29+00:00           Lagos, Nigeria   \n",
       "24393        MsFisayo 2022-09-29 05:35:00+00:00  Abroad with 24hrs Light   \n",
       "24394      LarraAimar 2022-09-29 05:18:25+00:00                       ⛰️   \n",
       "24395      Kalakuta77 2022-09-29 00:02:28+00:00     Wherever United Play   \n",
       "\n",
       "       followers  Likes  retweet  \\\n",
       "0           3664     25        7   \n",
       "1            307      0        0   \n",
       "2            725      1        0   \n",
       "3           2448      5        1   \n",
       "4           1371      0        0   \n",
       "...          ...    ...      ...   \n",
       "24391         94      0        0   \n",
       "24392        101      0        0   \n",
       "24393       4533      0        2   \n",
       "24394         88      2        0   \n",
       "24395       5624      0        0   \n",
       "\n",
       "                                                   Tweet  \\\n",
       "0      ARREST THE MUSIC ✊🏿\\n(Tribute to Fela Anikulap...   \n",
       "1                                 @khalidmovic Anikulapo   \n",
       "2      Please can someone tell me the meaning of “Ani...   \n",
       "3      Anikulapo is a masterpiece, the best epic movi...   \n",
       "4      Lol this Anikulapo movie dey give Acrimony vib...   \n",
       "...                                                  ...   \n",
       "24391  @DailyPostNGR Fela Anikulapo warned us in his ...   \n",
       "24392  ANIKULAPO – latest yoruba movie 2022 https://t...   \n",
       "24393  I’m looking forward to #Anikulapo more than an...   \n",
       "24394  Inédita imagen de yo saltando a través de la v...   \n",
       "24395  Beast Of No Nation ( BONN)\\n\\n—- Black Preside...   \n",
       "\n",
       "                                                Mentions  \\\n",
       "0                                                    NaN   \n",
       "1      [User(username='khalidmovic', id=138728457, di...   \n",
       "2                                                    NaN   \n",
       "3                                                    NaN   \n",
       "4                                                    NaN   \n",
       "...                                                  ...   \n",
       "24391  [User(username='DailyPostNGR', id=413428207, d...   \n",
       "24392                                                NaN   \n",
       "24393                                                NaN   \n",
       "24394                                                NaN   \n",
       "24395                                                NaN   \n",
       "\n",
       "                                                   tweet      mentions  \\\n",
       "0      [arrest, music, tribute, fela, kuti, would, 84...                 \n",
       "1                                                     []   khalidmovic   \n",
       "2              [please, someone, tell, meaning, curious]                 \n",
       "3                  [masterpiece, best, epic, movie, far]                 \n",
       "4      [lol, movie, dey, give, acrimony, vibes, na, e...                 \n",
       "...                                                  ...           ...   \n",
       "24391  [fela, warned, us, 70, amp, 80s, album, still,...  DailyPostNGR   \n",
       "24392                      [latest, yoruba, movie, 2022]                 \n",
       "24393  [im, looking, forward, anything, weekend, miss...                 \n",
       "24394  [inédita, imagen, de, yo, saltando, través, de...                 \n",
       "24395  [beast, nation, bonn, black, president, abami,...                 \n",
       "\n",
       "       subjectivity  polarity sentiment  \n",
       "0          0.122222  0.072222  positive  \n",
       "1          0.000000  0.000000   neutral  \n",
       "2          1.000000 -0.100000  negative  \n",
       "3          0.566667  0.400000  positive  \n",
       "4          0.700000  0.800000  positive  \n",
       "...             ...       ...       ...  \n",
       "24391      0.000000  0.000000   neutral  \n",
       "24392      0.900000  0.500000  positive  \n",
       "24393      0.000000  0.000000   neutral  \n",
       "24394      0.000000  0.000000   neutral  \n",
       "24395      0.433333 -0.166667  negative  \n",
       "\n",
       "[24388 rows x 13 columns]"
      ]
     },
     "execution_count": 60,
     "metadata": {},
     "output_type": "execute_result"
    }
   ],
   "source": [
    "copy1"
   ]
  },
  {
   "cell_type": "code",
   "execution_count": 62,
   "id": "be9a6b84",
   "metadata": {},
   "outputs": [],
   "source": [
    "copy1[['User', 'Date Created', 'Likes', 'retweet', 'sentiment']].to_csv(\"ani_cleaned.csv\", index=False)"
   ]
  },
  {
   "cell_type": "markdown",
   "id": "7f75e171",
   "metadata": {},
   "source": [
    "### The Numbers <a class=\"anchor\" id=\"section_3_1\"></a>\n",
    "\n",
    "Tweets collected contained 24388 tweets, gathered 503,067 likes and 97176 retweets, with 17,481 unique users."
   ]
  },
  {
   "cell_type": "code",
   "execution_count": 324,
   "id": "24273e91",
   "metadata": {},
   "outputs": [
    {
     "name": "stdout",
     "output_type": "stream",
     "text": [
      "Number of tweets =  24388\n",
      "Number of likes =  503067\n",
      "Number of retweets =  97176\n",
      "Number of Users =  17481\n"
     ]
    }
   ],
   "source": [
    "#Numbers \n",
    "tweets=copy1.shape[0]\n",
    "likes=sum(copy1['Likes'])\n",
    "retweets=sum(copy1['retweet'])\n",
    "\n",
    "print('Number of tweets = ' ,tweets)\n",
    "print('Number of likes = ',likes,)\n",
    "print('Number of retweets = ' ,retweets)\n",
    "print('Number of Users = ', len(copy1['User'].unique()))\n",
    "\n"
   ]
  },
  {
   "cell_type": "code",
   "execution_count": 27,
   "id": "bcdc04a3",
   "metadata": {},
   "outputs": [],
   "source": [
    "def x_y_t(xaxis, yaxis, title):\n",
    "    #this function contains graph titles\n",
    "    plt.xlabel(xaxis)\n",
    "    plt.ylabel(yaxis)\n",
    "    plt.title(title)"
   ]
  },
  {
   "cell_type": "markdown",
   "id": "04d19e4b",
   "metadata": {},
   "source": [
    "### Tweets per day <a class=\"anchor\" id=\"section_3_2\"></a>\n",
    "\n",
    "Tweets per day peaked on the first week of its release."
   ]
  },
  {
   "cell_type": "code",
   "execution_count": 19,
   "id": "759a73a4",
   "metadata": {
    "scrolled": true
   },
   "outputs": [
    {
     "data": {
      "image/png": "[encoded data removed]",
      "text/plain": [
       "<Figure size 432x288 with 1 Axes>"
      ]
     },
     "metadata": {
      "needs_background": "light"
     },
     "output_type": "display_data"
    }
   ],
   "source": [
    "#Tweets per day \n",
    "tweets_per_day = copy1.groupby([copy1['Date Created'].dt.date])['Tweet'].count()\n",
    "tweets_per_day.plot(kind='area')\n",
    "plt.xticks(rotation=90);"
   ]
  },
  {
   "cell_type": "code",
   "execution_count": 22,
   "id": "10831e2d",
   "metadata": {},
   "outputs": [],
   "source": [
    "tweets_per_day.to_csv(\"tweets_per_day.csv\", index=False)"
   ]
  },
  {
   "cell_type": "code",
   "execution_count": 21,
   "id": "c5650a14",
   "metadata": {},
   "outputs": [],
   "source": [
    "tweets_per_day=tweets_per_day.reset_index()"
   ]
  },
  {
   "cell_type": "markdown",
   "id": "caf33d3c",
   "metadata": {},
   "source": [
    "### Most active tweeters <a class=\"anchor\" id=\"section_3_3\"></a>"
   ]
  },
  {
   "cell_type": "code",
   "execution_count": 23,
   "id": "26b0d03c",
   "metadata": {
    "scrolled": false
   },
   "outputs": [
    {
     "data": {
      "text/plain": [
       "User\n",
       "manlike22          62\n",
       "qedng              44\n",
       "bidemi42           33\n",
       "OjoObaRihanot      29\n",
       "Ada_TheDiva        29\n",
       "jaiyeorie247       26\n",
       "NewlyPosted        25\n",
       "realahmed_01       20\n",
       "aba_your           20\n",
       "Aminamedia2000     19\n",
       "ntmdotng           19\n",
       "Escrow_Afrik       19\n",
       "remiopakunle       18\n",
       "freshfmlagos       18\n",
       "WKM_Up             18\n",
       "KanyinCollecti1    18\n",
       "Mz__Mo             17\n",
       "loadedtuneng       17\n",
       "PeterObiUpdates    17\n",
       "everyevery_ng      17\n",
       "Name: Tweet, dtype: int64"
      ]
     },
     "execution_count": 23,
     "metadata": {},
     "output_type": "execute_result"
    }
   ],
   "source": [
    "#Most active tweeters\n",
    "active_tweeters = copy1.groupby([copy1['User']])['Tweet'].count()\n",
    "active_tweeters.sort_values(ascending=False)[:20]"
   ]
  },
  {
   "cell_type": "code",
   "execution_count": 24,
   "id": "7e29a8be",
   "metadata": {},
   "outputs": [],
   "source": [
    "active_tweeters=active_tweeters.reset_index()"
   ]
  },
  {
   "cell_type": "code",
   "execution_count": 26,
   "id": "6bf59a48",
   "metadata": {},
   "outputs": [],
   "source": [
    "active_tweeters.to_csv(\"active_tweeters.csv\", index=False)"
   ]
  },
  {
   "cell_type": "code",
   "execution_count": 28,
   "id": "52c61d80",
   "metadata": {},
   "outputs": [
    {
     "data": {
      "image/png": "[encoded data removed]",
      "text/plain": [
       "<Figure size 432x288 with 1 Axes>"
      ]
     },
     "metadata": {
      "needs_background": "light"
     },
     "output_type": "display_data"
    }
   ],
   "source": [
    "default_color = sb.color_palette()[0]\n",
    "sb.barplot(data = active_tweeters.sort_values(by=['Tweet'], ascending=False)[:10], y='User', x='Tweet', color = default_color)\n",
    "x_y_t('count', 'Users', 'Most Active Tweeters')\n"
   ]
  },
  {
   "cell_type": "markdown",
   "id": "a652101d",
   "metadata": {},
   "source": [
    "### Top mentions <a class=\"anchor\" id=\"section_3_4\"></a>\n",
    "\n",
    "Kunle Afolayan significantly had the most mentions, as he his the producer and director of the movie. Top mentions also attracted major actors from the movies such as Bimbo Ademoye, Kunle Remi and Adebowale Adedayo (Mr Macaroni)"
   ]
  },
  {
   "cell_type": "code",
   "execution_count": 29,
   "id": "37e50c91",
   "metadata": {
    "scrolled": true
   },
   "outputs": [],
   "source": [
    "copy1['mentions']=copy1.Tweet.str.findall(r'(?<![@\\w])@(\\w{1,25})').apply(','.join)"
   ]
  },
  {
   "cell_type": "code",
   "execution_count": 30,
   "id": "bc0fed92",
   "metadata": {},
   "outputs": [],
   "source": [
    "copy1_mentions= copy1.assign(mentions=copy1['mentions'].str.split(',')).explode('mentions')  "
   ]
  },
  {
   "cell_type": "code",
   "execution_count": 41,
   "id": "abe1cd28",
   "metadata": {
    "scrolled": false
   },
   "outputs": [
    {
     "data": {
      "text/plain": [
       "mentions\n",
       "                 18542\n",
       "kunleafolayan     1020\n",
       "BimboAdemoye       216\n",
       "KunleRemi          178\n",
       "NetflixNaija       153\n",
       "bod_republic       108\n",
       "Ekitipikin         107\n",
       "Naija_PR           107\n",
       "mrmacaronii        107\n",
       "netflix             72\n",
       "FS_Yusuf_           64\n",
       "Name: Tweet, dtype: int64"
      ]
     },
     "execution_count": 41,
     "metadata": {},
     "output_type": "execute_result"
    }
   ],
   "source": [
    "top_mentions = copy1_mentions.groupby([copy1_mentions['mentions']])['Tweet'].count()\n",
    "top_mentions.sort_values(ascending=False)[:11]"
   ]
  },
  {
   "cell_type": "code",
   "execution_count": 43,
   "id": "bb35887b",
   "metadata": {},
   "outputs": [],
   "source": [
    "top_mentions=top_mentions.reset_index()"
   ]
  },
  {
   "cell_type": "code",
   "execution_count": 45,
   "id": "8c8e6efc",
   "metadata": {},
   "outputs": [
    {
     "data": {
      "text/html": [
       "<div>\n",
       "<style scoped>\n",
       "    .dataframe tbody tr th:only-of-type {\n",
       "        vertical-align: middle;\n",
       "    }\n",
       "\n",
       "    .dataframe tbody tr th {\n",
       "        vertical-align: top;\n",
       "    }\n",
       "\n",
       "    .dataframe thead th {\n",
       "        text-align: right;\n",
       "    }\n",
       "</style>\n",
       "<table border=\"1\" class=\"dataframe\">\n",
       "  <thead>\n",
       "    <tr style=\"text-align: right;\">\n",
       "      <th></th>\n",
       "      <th>mentions</th>\n",
       "      <th>Tweet</th>\n",
       "    </tr>\n",
       "  </thead>\n",
       "  <tbody>\n",
       "    <tr>\n",
       "      <th>0</th>\n",
       "      <td></td>\n",
       "      <td>18542</td>\n",
       "    </tr>\n",
       "    <tr>\n",
       "      <th>1</th>\n",
       "      <td>01_jay2</td>\n",
       "      <td>1</td>\n",
       "    </tr>\n",
       "    <tr>\n",
       "      <th>2</th>\n",
       "      <td>0THE_REAL_DEVIL</td>\n",
       "      <td>1</td>\n",
       "    </tr>\n",
       "    <tr>\n",
       "      <th>3</th>\n",
       "      <td>0masanjuwa</td>\n",
       "      <td>1</td>\n",
       "    </tr>\n",
       "    <tr>\n",
       "      <th>4</th>\n",
       "      <td>0najite</td>\n",
       "      <td>1</td>\n",
       "    </tr>\n",
       "    <tr>\n",
       "      <th>...</th>\n",
       "      <td>...</td>\n",
       "      <td>...</td>\n",
       "    </tr>\n",
       "    <tr>\n",
       "      <th>3648</th>\n",
       "      <td>zizzycarter</td>\n",
       "      <td>1</td>\n",
       "    </tr>\n",
       "    <tr>\n",
       "      <th>3649</th>\n",
       "      <td>zlatan_ibile</td>\n",
       "      <td>1</td>\n",
       "    </tr>\n",
       "    <tr>\n",
       "      <th>3650</th>\n",
       "      <td>zonguiati</td>\n",
       "      <td>1</td>\n",
       "    </tr>\n",
       "    <tr>\n",
       "      <th>3651</th>\n",
       "      <td>zumamalicious</td>\n",
       "      <td>1</td>\n",
       "    </tr>\n",
       "    <tr>\n",
       "      <th>3652</th>\n",
       "      <td>zuwerah_</td>\n",
       "      <td>1</td>\n",
       "    </tr>\n",
       "  </tbody>\n",
       "</table>\n",
       "<p>3653 rows × 2 columns</p>\n",
       "</div>"
      ],
      "text/plain": [
       "             mentions  Tweet\n",
       "0                      18542\n",
       "1             01_jay2      1\n",
       "2     0THE_REAL_DEVIL      1\n",
       "3          0masanjuwa      1\n",
       "4             0najite      1\n",
       "...               ...    ...\n",
       "3648      zizzycarter      1\n",
       "3649     zlatan_ibile      1\n",
       "3650        zonguiati      1\n",
       "3651    zumamalicious      1\n",
       "3652         zuwerah_      1\n",
       "\n",
       "[3653 rows x 2 columns]"
      ]
     },
     "execution_count": 45,
     "metadata": {},
     "output_type": "execute_result"
    }
   ],
   "source": [
    "top_mentions"
   ]
  },
  {
   "cell_type": "code",
   "execution_count": 47,
   "id": "c8e61566",
   "metadata": {},
   "outputs": [
    {
     "data": {
      "image/png": "[encoded data removed]",
      "text/plain": [
       "<Figure size 432x288 with 1 Axes>"
      ]
     },
     "metadata": {
      "needs_background": "light"
     },
     "output_type": "display_data"
    }
   ],
   "source": [
    "default_color = sb.color_palette()[0]\n",
    "sb.barplot(data = top_mentions.sort_values(by=['Tweet'], ascending=False)[1:11], y='mentions', x='Tweet', color = default_color)\n",
    "x_y_t('count', 'User', 'Top mentions')\n"
   ]
  },
  {
   "cell_type": "code",
   "execution_count": 48,
   "id": "889895f9",
   "metadata": {},
   "outputs": [],
   "source": [
    "top_mentions.to_csv(\"top_mentions.csv\", index=False)"
   ]
  },
  {
   "cell_type": "code",
   "execution_count": 332,
   "id": "e9009966",
   "metadata": {},
   "outputs": [
    {
     "data": {
      "text/html": [
       "<div>\n",
       "<style scoped>\n",
       "    .dataframe tbody tr th:only-of-type {\n",
       "        vertical-align: middle;\n",
       "    }\n",
       "\n",
       "    .dataframe tbody tr th {\n",
       "        vertical-align: top;\n",
       "    }\n",
       "\n",
       "    .dataframe thead th {\n",
       "        text-align: right;\n",
       "    }\n",
       "</style>\n",
       "<table border=\"1\" class=\"dataframe\">\n",
       "  <thead>\n",
       "    <tr style=\"text-align: right;\">\n",
       "      <th></th>\n",
       "      <th>Actors</th>\n",
       "      <th>count</th>\n",
       "    </tr>\n",
       "  </thead>\n",
       "  <tbody>\n",
       "    <tr>\n",
       "      <th>0</th>\n",
       "      <td>kunleafolayan</td>\n",
       "      <td>1046</td>\n",
       "    </tr>\n",
       "    <tr>\n",
       "      <th>1</th>\n",
       "      <td>BimboAdemoye</td>\n",
       "      <td>221</td>\n",
       "    </tr>\n",
       "    <tr>\n",
       "      <th>2</th>\n",
       "      <td>KunleRemi</td>\n",
       "      <td>180</td>\n",
       "    </tr>\n",
       "    <tr>\n",
       "      <th>3</th>\n",
       "      <td>mrmacaronii</td>\n",
       "      <td>110</td>\n",
       "    </tr>\n",
       "    <tr>\n",
       "      <th>4</th>\n",
       "      <td>SolaSobowaleTKV</td>\n",
       "      <td>22</td>\n",
       "    </tr>\n",
       "  </tbody>\n",
       "</table>\n",
       "</div>"
      ],
      "text/plain": [
       "            Actors  count\n",
       "0    kunleafolayan   1046\n",
       "1     BimboAdemoye    221\n",
       "2        KunleRemi    180\n",
       "3      mrmacaronii    110\n",
       "4  SolaSobowaleTKV     22"
      ]
     },
     "execution_count": 332,
     "metadata": {},
     "output_type": "execute_result"
    }
   ],
   "source": [
    "#top mentioned actors \n",
    "top_mentioned_actors = {'Actors': ['kunleafolayan', 'BimboAdemoye', 'KunleRemi','mrmacaronii', 'SolaSobowaleTKV'],\n",
    "        'count': [1046, 221, 180, 110, 22 ]}\n",
    "# Create DataFrame  \n",
    "df = pd.DataFrame(top_mentioned_actors)\n",
    "df"
   ]
  },
  {
   "cell_type": "markdown",
   "id": "d3727c9f",
   "metadata": {},
   "source": [
    "### Top Location <a class=\"anchor\" id=\"section_3_5\"></a>\n",
    "\n",
    "From the publicly disclosed location on twitter, Lagos significantly tops the chat here. There are also notable engagements from countries outside Nigeria."
   ]
  },
  {
   "cell_type": "code",
   "execution_count": 49,
   "id": "8b70653e",
   "metadata": {},
   "outputs": [],
   "source": [
    "#location cleaning \n",
    "copy1_location= copy1.assign(location=copy1['location'].str.split(' /|;|,.')).explode('location')  "
   ]
  },
  {
   "cell_type": "code",
   "execution_count": 52,
   "id": "64c719d9",
   "metadata": {},
   "outputs": [],
   "source": [
    "df.to_csv(\"top_location.csv\", index=False)"
   ]
  },
  {
   "cell_type": "code",
   "execution_count": 50,
   "id": "288ac1f1",
   "metadata": {
    "scrolled": false
   },
   "outputs": [
    {
     "data": {
      "text/html": [
       "<div>\n",
       "<style scoped>\n",
       "    .dataframe tbody tr th:only-of-type {\n",
       "        vertical-align: middle;\n",
       "    }\n",
       "\n",
       "    .dataframe tbody tr th {\n",
       "        vertical-align: top;\n",
       "    }\n",
       "\n",
       "    .dataframe thead th {\n",
       "        text-align: right;\n",
       "    }\n",
       "</style>\n",
       "<table border=\"1\" class=\"dataframe\">\n",
       "  <thead>\n",
       "    <tr style=\"text-align: right;\">\n",
       "      <th></th>\n",
       "      <th>location</th>\n",
       "      <th>count</th>\n",
       "    </tr>\n",
       "  </thead>\n",
       "  <tbody>\n",
       "    <tr>\n",
       "      <th>0</th>\n",
       "      <td>Lagos</td>\n",
       "      <td>4696</td>\n",
       "    </tr>\n",
       "    <tr>\n",
       "      <th>1</th>\n",
       "      <td>Abuja</td>\n",
       "      <td>818</td>\n",
       "    </tr>\n",
       "    <tr>\n",
       "      <th>2</th>\n",
       "      <td>United Kingdom</td>\n",
       "      <td>822</td>\n",
       "    </tr>\n",
       "    <tr>\n",
       "      <th>3</th>\n",
       "      <td>Ibadan</td>\n",
       "      <td>449</td>\n",
       "    </tr>\n",
       "    <tr>\n",
       "      <th>4</th>\n",
       "      <td>USA</td>\n",
       "      <td>138</td>\n",
       "    </tr>\n",
       "    <tr>\n",
       "      <th>5</th>\n",
       "      <td>Ilorin</td>\n",
       "      <td>130</td>\n",
       "    </tr>\n",
       "    <tr>\n",
       "      <th>6</th>\n",
       "      <td>Port Harcourt</td>\n",
       "      <td>119</td>\n",
       "    </tr>\n",
       "    <tr>\n",
       "      <th>7</th>\n",
       "      <td>Canada</td>\n",
       "      <td>181</td>\n",
       "    </tr>\n",
       "    <tr>\n",
       "      <th>8</th>\n",
       "      <td>Ghana</td>\n",
       "      <td>99</td>\n",
       "    </tr>\n",
       "    <tr>\n",
       "      <th>9</th>\n",
       "      <td>Enugu</td>\n",
       "      <td>82</td>\n",
       "    </tr>\n",
       "  </tbody>\n",
       "</table>\n",
       "</div>"
      ],
      "text/plain": [
       "         location  count\n",
       "0           Lagos   4696\n",
       "1           Abuja    818\n",
       "2  United Kingdom    822\n",
       "3          Ibadan    449\n",
       "4             USA    138\n",
       "5          Ilorin    130\n",
       "6   Port Harcourt    119\n",
       "7          Canada    181\n",
       "8           Ghana     99\n",
       "9           Enugu     82"
      ]
     },
     "execution_count": 50,
     "metadata": {},
     "output_type": "execute_result"
    }
   ],
   "source": [
    "top_location = {'location': ['Lagos', 'Abuja', 'United Kingdom', 'Ibadan', 'USA', 'Ilorin', 'Port Harcourt', 'Canada', 'Ghana',\n",
    "                            'Enugu'],\n",
    "        'count': [(4506+97+93), (693+125) ,(347+250+225), 449, 138, 130, 119,(93+88), 99, 82]}\n",
    "# Create DataFrame  \n",
    "df = pd.DataFrame(top_location)\n",
    "df"
   ]
  },
  {
   "cell_type": "code",
   "execution_count": 363,
   "id": "9703f9f2",
   "metadata": {},
   "outputs": [
    {
     "data": {
      "image/png": "[encoded data removed]",
      "text/plain": [
       "<Figure size 432x288 with 1 Axes>"
      ]
     },
     "metadata": {
      "needs_background": "light"
     },
     "output_type": "display_data"
    }
   ],
   "source": [
    "default_color = sb.color_palette()[0]\n",
    "sb.barplot(data =df, y='location', x='count', color = default_color)\n",
    "x_y_t('count', 'Location', 'Top Location')"
   ]
  },
  {
   "cell_type": "markdown",
   "id": "4ace21e1",
   "metadata": {},
   "source": [
    "### Word Cloud <a class=\"anchor\" id=\"section_3_7\"></a>\n",
    "From the total tweets gathered, the visual below gives a representation of top words used."
   ]
  },
  {
   "cell_type": "code",
   "execution_count": 336,
   "id": "d6b3c707",
   "metadata": {},
   "outputs": [
    {
     "data": {
      "image/png": "[encoded data removed]",
      "text/plain": [
       "<Figure size 432x288 with 1 Axes>"
      ]
     },
     "metadata": {
      "needs_background": "light"
     },
     "output_type": "display_data"
    }
   ],
   "source": [
    "allWords = ' '.join([str(twts) for twts in copy1['tweet']])\n",
    "wordCloud=WordCloud(width = 500, height=300,max_font_size=119, background_color=\"rgba(255, 255, 255, 0)\",\n",
    "                    mode=\"RGBA\", max_words=15).generate(allWords)\n",
    "plt.imshow(wordCloud, interpolation='bilinear')\n",
    "plt.axis('off')\n",
    "plt.show()"
   ]
  },
  {
   "cell_type": "markdown",
   "id": "169d2cf7",
   "metadata": {},
   "source": [
    "### Sentiments <a class=\"anchor\" id=\"section_3_8\"></a>"
   ]
  },
  {
   "cell_type": "code",
   "execution_count": 54,
   "id": "dd8c3c7f",
   "metadata": {},
   "outputs": [],
   "source": [
    "#Create a function to get the subjectivity\n",
    "def getSubjectivity(text):\n",
    "    return TextBlob(text).sentiment.subjectivity\n",
    "\n",
    "#Create a function to get the polarity\n",
    "def getPolarity(text):\n",
    "    return TextBlob(text).sentiment.polarity\n",
    "\n",
    "#Create two new columns\n",
    "copy1['subjectivity']=copy1['tweet'].apply(lambda x: getSubjectivity(' '.join(x)))\n",
    "copy1['polarity']=copy1['tweet'].apply(lambda x: getPolarity(' '.join(x)))"
   ]
  },
  {
   "cell_type": "code",
   "execution_count": 55,
   "id": "be02965b",
   "metadata": {},
   "outputs": [],
   "source": [
    "def get_tweet_sentiment(score): \n",
    "    '''Utility function to classify sentiment of passed tweet using textblob's sentiment method'''\n",
    "    # create TextBlob object of passed tweet text \n",
    "   # analysis = TextBlob(tweet) \n",
    "    \n",
    "    # set sentiment \n",
    "    if score > 0:\n",
    "        return 'positive'\n",
    "    elif score == 0: \n",
    "        return 'neutral'\n",
    "    else: \n",
    "        return 'negative'\n",
    "    \n",
    "copy1['sentiment'] = copy1['polarity'].apply(get_tweet_sentiment)"
   ]
  },
  {
   "cell_type": "code",
   "execution_count": 57,
   "id": "0e56c476",
   "metadata": {},
   "outputs": [],
   "source": [
    "sentiment=copy1.groupby([copy1['sentiment']])['Tweet'].count()"
   ]
  },
  {
   "cell_type": "code",
   "execution_count": 59,
   "id": "d79fd558",
   "metadata": {},
   "outputs": [],
   "source": [
    "sentiment=sentiment.reset_index()"
   ]
  },
  {
   "cell_type": "code",
   "execution_count": 339,
   "id": "6cb10352",
   "metadata": {
    "scrolled": false
   },
   "outputs": [
    {
     "data": {
      "text/plain": [
       "neutral     11718\n",
       "positive     9846\n",
       "negative     2824\n",
       "Name: sentiment, dtype: int64"
      ]
     },
     "execution_count": 339,
     "metadata": {},
     "output_type": "execute_result"
    }
   ],
   "source": [
    "copy1['sentiment'].value_counts()"
   ]
  },
  {
   "cell_type": "code",
   "execution_count": 340,
   "id": "60e0c97f",
   "metadata": {},
   "outputs": [
    {
     "data": {
      "image/png": "[encoded data removed]",
      "text/plain": [
       "<Figure size 432x288 with 1 Axes>"
      ]
     },
     "metadata": {},
     "output_type": "display_data"
    }
   ],
   "source": [
    "# Pie Chart\n",
    "copy1['sentiment'].value_counts().plot(kind='pie')\n",
    "  \n",
    "# draw circle\n",
    "centre_circle = plt.Circle((0, 0), 0.70, fc='white')\n",
    "fig = plt.gcf()\n",
    "  \n",
    "# Adding Circle in Pie chart\n",
    "fig.gca().add_artist(centre_circle)\n",
    "  \n",
    "# Adding Title of chart\n",
    "plt.title('Sentiments')\n",
    "  \n",
    "# Displaying Chart\n",
    "plt.show()"
   ]
  },
  {
   "cell_type": "markdown",
   "id": "63f863ec",
   "metadata": {},
   "source": [
    "### Top likes and retweets <a class=\"anchor\" id=\"section_3_6\"></a>"
   ]
  },
  {
   "cell_type": "markdown",
   "id": "aface546",
   "metadata": {},
   "source": [
    "### Top 4 Mentions and Associated Words"
   ]
  },
  {
   "cell_type": "code",
   "execution_count": 341,
   "id": "3134deeb",
   "metadata": {},
   "outputs": [
    {
     "name": "stdout",
     "output_type": "stream",
     "text": [
      "Kunle Remi: 278\n",
      "@KunleRemi: 217\n",
      "Saro: 3482\n"
     ]
    }
   ],
   "source": [
    "print('Kunle Remi:' , copy1[(copy1['Tweet'].str.lower().str.contains('kunle remi'))].shape[0])\n",
    "print('@KunleRemi:' , copy1[(copy1['Tweet'].str.lower().str.contains('kunleremi'))].shape[0])\n",
    "print('Saro:' , copy1[(copy1['Tweet'].str.lower().str.contains('saro'))].shape[0])"
   ]
  },
  {
   "cell_type": "code",
   "execution_count": 342,
   "id": "e9a866e4",
   "metadata": {},
   "outputs": [
    {
     "data": {
      "image/png": "[encoded data removed]",
      "text/plain": [
       "<Figure size 432x288 with 1 Axes>"
      ]
     },
     "metadata": {
      "needs_background": "light"
     },
     "output_type": "display_data"
    }
   ],
   "source": [
    "saro_word=copy1[(copy1['Tweet'].str.lower().str.contains('kunleremi')) | \n",
    "                (copy1['Tweet'].str.lower().str.contains('kunle remi')) |(copy1['Tweet'].str.lower().str.contains('saro'))]\n",
    "allWords = ' '.join([str(twts) for twts in saro_word['tweet']])\n",
    "wordCloud=WordCloud(width = 800, height=300,max_font_size=119, background_color=\"rgba(255, 255, 255, 0)\",\n",
    "                    mode=\"RGBA\", max_words=10).generate(allWords)\n",
    "plt.imshow(wordCloud, interpolation='bilinear')\n",
    "plt.axis('off')\n",
    "plt.show()"
   ]
  },
  {
   "cell_type": "code",
   "execution_count": 343,
   "id": "05eea2f3",
   "metadata": {},
   "outputs": [
    {
     "name": "stdout",
     "output_type": "stream",
     "text": [
      "Bimbo Ademoye: 494\n",
      "@BimboAdemoye: 247\n",
      "Arolake: 1460\n"
     ]
    }
   ],
   "source": [
    "print('Bimbo Ademoye:' , copy1[(copy1['Tweet'].str.lower().str.contains('bimbo ademoye'))].shape[0])\n",
    "print('@BimboAdemoye:' , copy1[(copy1['Tweet'].str.lower().str.contains('bimboademoye'))].shape[0])\n",
    "print('Arolake:' , copy1[(copy1['Tweet'].str.lower().str.contains('arolake'))].shape[0])"
   ]
  },
  {
   "cell_type": "code",
   "execution_count": 344,
   "id": "504a8110",
   "metadata": {},
   "outputs": [
    {
     "data": {
      "image/png": "[encoded data removed]",
      "text/plain": [
       "<Figure size 432x288 with 1 Axes>"
      ]
     },
     "metadata": {
      "needs_background": "light"
     },
     "output_type": "display_data"
    }
   ],
   "source": [
    "arolake_word=copy1[(copy1['Tweet'].str.lower().str.contains('bimbo ademoye')) | \n",
    "                (copy1['Tweet'].str.lower().str.contains('bimboademoye')) |(copy1['Tweet'].str.lower().str.contains('arolake'))]\n",
    "allWords = ' '.join([str(twts) for twts in arolake_word['tweet']])\n",
    "wordCloud=WordCloud(width = 800, height=300,max_font_size=119, background_color=\"rgba(255, 255, 255, 0)\",\n",
    "                    mode=\"RGBA\", max_words=10, colormap = 'ocean').generate(allWords)\n",
    "plt.imshow(wordCloud, interpolation='bilinear')\n",
    "plt.axis('off')\n",
    "plt.show()"
   ]
  },
  {
   "cell_type": "code",
   "execution_count": 345,
   "id": "f2295e93",
   "metadata": {
    "scrolled": true
   },
   "outputs": [
    {
     "name": "stdout",
     "output_type": "stream",
     "text": [
      "Sola Sobowale: 95\n",
      "@SolaSobowaleTKV: 22\n",
      "Awarun: 201\n"
     ]
    }
   ],
   "source": [
    "print('Sola Sobowale:' , copy1[(copy1['Tweet'].str.lower().str.contains('sola sobowale'))].shape[0])\n",
    "print('@SolaSobowaleTKV:' , copy1[(copy1['Tweet'].str.lower().str.contains('solasobowaletkv'))].shape[0])\n",
    "print('Awarun:' , copy1[(copy1['Tweet'].str.lower().str.contains('awarun'))].shape[0])"
   ]
  },
  {
   "cell_type": "code",
   "execution_count": 346,
   "id": "8ae4f916",
   "metadata": {},
   "outputs": [
    {
     "data": {
      "image/png": "[encoded data removed]",
      "text/plain": [
       "<Figure size 432x288 with 1 Axes>"
      ]
     },
     "metadata": {
      "needs_background": "light"
     },
     "output_type": "display_data"
    }
   ],
   "source": [
    "awarun_word=copy1[(copy1['Tweet'].str.lower().str.contains('sola sobowale')) | \n",
    "                (copy1['Tweet'].str.lower().str.contains('solasobowaletkv')) |(copy1['Tweet'].str.lower().str.contains('awarun'))]\n",
    "allWords = ' '.join([str(twts) for twts in awarun_word['tweet']])\n",
    "wordCloud=WordCloud(width = 800, height=300,max_font_size=50, background_color=\"rgba(255, 255, 255, 0)\",\n",
    "                    mode=\"RGBA\", max_words=10).generate(allWords)\n",
    "plt.imshow(wordCloud, interpolation='bilinear')\n",
    "plt.axis('off')\n",
    "plt.show()"
   ]
  },
  {
   "cell_type": "code",
   "execution_count": 347,
   "id": "cb464d09",
   "metadata": {},
   "outputs": [
    {
     "name": "stdout",
     "output_type": "stream",
     "text": [
      "Adebowale Adedayo: 2\n",
      "@mrmacaronii: 104\n",
      "Akanji: 53\n"
     ]
    }
   ],
   "source": [
    "print('Adebowale Adedayo:' , copy1[(copy1['Tweet'].str.lower().str.contains('adebowale adedayo'))].shape[0])\n",
    "print('@mrmacaronii:' , copy1[(copy1['Tweet'].str.lower().str.contains('mrmacaronii'))].shape[0])\n",
    "print('Akanji:' , copy1[(copy1['Tweet'].str.lower().str.contains('akanji'))].shape[0])"
   ]
  },
  {
   "cell_type": "code",
   "execution_count": 348,
   "id": "f39f38bb",
   "metadata": {
    "scrolled": true
   },
   "outputs": [
    {
     "data": {
      "image/png": "[encoded data removed]",
      "text/plain": [
       "<Figure size 432x288 with 1 Axes>"
      ]
     },
     "metadata": {
      "needs_background": "light"
     },
     "output_type": "display_data"
    }
   ],
   "source": [
    "akanji_word=copy1[(copy1['Tweet'].str.lower().str.contains('adebowale adedayo')) | \n",
    "                (copy1['Tweet'].str.lower().str.contains('mrmacaronii')) |(copy1['Tweet'].str.lower().str.contains('akanji'))]\n",
    "allWords = ' '.join([str(twts) for twts in akanji_word['tweet']])\n",
    "wordCloud=WordCloud(width = 800, height=300,max_font_size=119, background_color=\"rgba(255, 255, 255, 0)\",\n",
    "                    mode=\"RGBA\", max_words=10).generate(allWords)\n",
    "plt.imshow(wordCloud, interpolation='bilinear')\n",
    "plt.axis('off')\n",
    "plt.show()"
   ]
  },
  {
   "cell_type": "code",
   "execution_count": 349,
   "id": "105b6db1",
   "metadata": {},
   "outputs": [
    {
     "data": {
      "text/html": [
       "<div>\n",
       "<style scoped>\n",
       "    .dataframe tbody tr th:only-of-type {\n",
       "        vertical-align: middle;\n",
       "    }\n",
       "\n",
       "    .dataframe tbody tr th {\n",
       "        vertical-align: top;\n",
       "    }\n",
       "\n",
       "    .dataframe thead th {\n",
       "        text-align: right;\n",
       "    }\n",
       "</style>\n",
       "<table border=\"1\" class=\"dataframe\">\n",
       "  <thead>\n",
       "    <tr style=\"text-align: right;\">\n",
       "      <th></th>\n",
       "      <th>User</th>\n",
       "      <th>Date Created</th>\n",
       "      <th>location</th>\n",
       "      <th>followers</th>\n",
       "      <th>Likes</th>\n",
       "      <th>retweet</th>\n",
       "      <th>Tweet</th>\n",
       "      <th>Mentions</th>\n",
       "      <th>tweet</th>\n",
       "      <th>mentions</th>\n",
       "      <th>subjectivity</th>\n",
       "      <th>polarity</th>\n",
       "      <th>sentiment</th>\n",
       "    </tr>\n",
       "  </thead>\n",
       "  <tbody>\n",
       "    <tr>\n",
       "      <th>21256</th>\n",
       "      <td>Fortis_OWO</td>\n",
       "      <td>2022-10-01 10:04:44+00:00</td>\n",
       "      <td>Wherever my heart is.</td>\n",
       "      <td>12280</td>\n",
       "      <td>22401</td>\n",
       "      <td>4076</td>\n",
       "      <td>So Kunle Afolayan bought Acres of land in Ibad...</td>\n",
       "      <td>NaN</td>\n",
       "      <td>[kunle, afolayan, bought, acres, land, ibadan,...</td>\n",
       "      <td></td>\n",
       "      <td>0.000</td>\n",
       "      <td>0.000000</td>\n",
       "      <td>neutral</td>\n",
       "    </tr>\n",
       "    <tr>\n",
       "      <th>18812</th>\n",
       "      <td>mrmacaronii</td>\n",
       "      <td>2022-10-02 08:19:39+00:00</td>\n",
       "      <td>Nigeria</td>\n",
       "      <td>3070849</td>\n",
       "      <td>19294</td>\n",
       "      <td>1325</td>\n",
       "      <td>ANIKULAPO!!! https://t.co/3IELKZoYyM</td>\n",
       "      <td>NaN</td>\n",
       "      <td>[]</td>\n",
       "      <td></td>\n",
       "      <td>0.000</td>\n",
       "      <td>0.000000</td>\n",
       "      <td>neutral</td>\n",
       "    </tr>\n",
       "    <tr>\n",
       "      <th>5787</th>\n",
       "      <td>kunleafolayan</td>\n",
       "      <td>2022-10-07 07:53:08+00:00</td>\n",
       "      <td>Lagos, Nigeria</td>\n",
       "      <td>170696</td>\n",
       "      <td>15413</td>\n",
       "      <td>3571</td>\n",
       "      <td>ANIKULAPO- Saro and Arolake finally resolved t...</td>\n",
       "      <td>[User(username='KunleRemi', id=318770652, disp...</td>\n",
       "      <td>[saro, arolake, finally, resolved, issues, wat...</td>\n",
       "      <td>KunleRemi,BimboAdemoye,kap_hub,goldeneffects</td>\n",
       "      <td>0.775</td>\n",
       "      <td>0.175000</td>\n",
       "      <td>positive</td>\n",
       "    </tr>\n",
       "    <tr>\n",
       "      <th>8599</th>\n",
       "      <td>DamiElebe</td>\n",
       "      <td>2022-10-05 11:23:44+00:00</td>\n",
       "      <td>NaN</td>\n",
       "      <td>101501</td>\n",
       "      <td>14050</td>\n",
       "      <td>4038</td>\n",
       "      <td>Another Anikulapo lesson... And this one is fo...</td>\n",
       "      <td>NaN</td>\n",
       "      <td>[another, lesson, one, women, find, key, succe...</td>\n",
       "      <td></td>\n",
       "      <td>0.500</td>\n",
       "      <td>0.233333</td>\n",
       "      <td>positive</td>\n",
       "    </tr>\n",
       "    <tr>\n",
       "      <th>23912</th>\n",
       "      <td>_AsiwajuLerry</td>\n",
       "      <td>2022-09-30 12:00:06+00:00</td>\n",
       "      <td>Japa by mindset.</td>\n",
       "      <td>349431</td>\n",
       "      <td>11672</td>\n",
       "      <td>1000</td>\n",
       "      <td>No be Bimbo Ademoye breast be this inside Anik...</td>\n",
       "      <td>NaN</td>\n",
       "      <td>[bimbo, ademoye, breast, inside, nollywood, du...</td>\n",
       "      <td></td>\n",
       "      <td>0.000</td>\n",
       "      <td>0.000000</td>\n",
       "      <td>neutral</td>\n",
       "    </tr>\n",
       "  </tbody>\n",
       "</table>\n",
       "</div>"
      ],
      "text/plain": [
       "                User              Date Created               location  \\\n",
       "21256     Fortis_OWO 2022-10-01 10:04:44+00:00  Wherever my heart is.   \n",
       "18812    mrmacaronii 2022-10-02 08:19:39+00:00                Nigeria   \n",
       "5787   kunleafolayan 2022-10-07 07:53:08+00:00         Lagos, Nigeria   \n",
       "8599       DamiElebe 2022-10-05 11:23:44+00:00                    NaN   \n",
       "23912  _AsiwajuLerry 2022-09-30 12:00:06+00:00       Japa by mindset.   \n",
       "\n",
       "       followers  Likes  retweet  \\\n",
       "21256      12280  22401     4076   \n",
       "18812    3070849  19294     1325   \n",
       "5787      170696  15413     3571   \n",
       "8599      101501  14050     4038   \n",
       "23912     349431  11672     1000   \n",
       "\n",
       "                                                   Tweet  \\\n",
       "21256  So Kunle Afolayan bought Acres of land in Ibad...   \n",
       "18812               ANIKULAPO!!! https://t.co/3IELKZoYyM   \n",
       "5787   ANIKULAPO- Saro and Arolake finally resolved t...   \n",
       "8599   Another Anikulapo lesson... And this one is fo...   \n",
       "23912  No be Bimbo Ademoye breast be this inside Anik...   \n",
       "\n",
       "                                                Mentions  \\\n",
       "21256                                                NaN   \n",
       "18812                                                NaN   \n",
       "5787   [User(username='KunleRemi', id=318770652, disp...   \n",
       "8599                                                 NaN   \n",
       "23912                                                NaN   \n",
       "\n",
       "                                                   tweet  \\\n",
       "21256  [kunle, afolayan, bought, acres, land, ibadan,...   \n",
       "18812                                                 []   \n",
       "5787   [saro, arolake, finally, resolved, issues, wat...   \n",
       "8599   [another, lesson, one, women, find, key, succe...   \n",
       "23912  [bimbo, ademoye, breast, inside, nollywood, du...   \n",
       "\n",
       "                                           mentions  subjectivity  polarity  \\\n",
       "21256                                                       0.000  0.000000   \n",
       "18812                                                       0.000  0.000000   \n",
       "5787   KunleRemi,BimboAdemoye,kap_hub,goldeneffects         0.775  0.175000   \n",
       "8599                                                        0.500  0.233333   \n",
       "23912                                                       0.000  0.000000   \n",
       "\n",
       "      sentiment  \n",
       "21256   neutral  \n",
       "18812   neutral  \n",
       "5787   positive  \n",
       "8599   positive  \n",
       "23912   neutral  "
      ]
     },
     "execution_count": 349,
     "metadata": {},
     "output_type": "execute_result"
    }
   ],
   "source": [
    "### Most liked tweet\n",
    "copy1.sort_values(by=['Likes'], ascending=False)[:5]"
   ]
  },
  {
   "cell_type": "code",
   "execution_count": 350,
   "id": "691c890b",
   "metadata": {
    "scrolled": false
   },
   "outputs": [
    {
     "data": {
      "text/html": [
       "<div>\n",
       "<style scoped>\n",
       "    .dataframe tbody tr th:only-of-type {\n",
       "        vertical-align: middle;\n",
       "    }\n",
       "\n",
       "    .dataframe tbody tr th {\n",
       "        vertical-align: top;\n",
       "    }\n",
       "\n",
       "    .dataframe thead th {\n",
       "        text-align: right;\n",
       "    }\n",
       "</style>\n",
       "<table border=\"1\" class=\"dataframe\">\n",
       "  <thead>\n",
       "    <tr style=\"text-align: right;\">\n",
       "      <th></th>\n",
       "      <th>User</th>\n",
       "      <th>Date Created</th>\n",
       "      <th>location</th>\n",
       "      <th>followers</th>\n",
       "      <th>Likes</th>\n",
       "      <th>retweet</th>\n",
       "      <th>Tweet</th>\n",
       "      <th>Mentions</th>\n",
       "      <th>tweet</th>\n",
       "      <th>mentions</th>\n",
       "      <th>subjectivity</th>\n",
       "      <th>polarity</th>\n",
       "      <th>sentiment</th>\n",
       "    </tr>\n",
       "  </thead>\n",
       "  <tbody>\n",
       "    <tr>\n",
       "      <th>21256</th>\n",
       "      <td>Fortis_OWO</td>\n",
       "      <td>2022-10-01 10:04:44+00:00</td>\n",
       "      <td>Wherever my heart is.</td>\n",
       "      <td>12280</td>\n",
       "      <td>22401</td>\n",
       "      <td>4076</td>\n",
       "      <td>So Kunle Afolayan bought Acres of land in Ibad...</td>\n",
       "      <td>NaN</td>\n",
       "      <td>[kunle, afolayan, bought, acres, land, ibadan,...</td>\n",
       "      <td></td>\n",
       "      <td>0.000</td>\n",
       "      <td>0.000000</td>\n",
       "      <td>neutral</td>\n",
       "    </tr>\n",
       "    <tr>\n",
       "      <th>8599</th>\n",
       "      <td>DamiElebe</td>\n",
       "      <td>2022-10-05 11:23:44+00:00</td>\n",
       "      <td>NaN</td>\n",
       "      <td>101501</td>\n",
       "      <td>14050</td>\n",
       "      <td>4038</td>\n",
       "      <td>Another Anikulapo lesson... And this one is fo...</td>\n",
       "      <td>NaN</td>\n",
       "      <td>[another, lesson, one, women, find, key, succe...</td>\n",
       "      <td></td>\n",
       "      <td>0.500</td>\n",
       "      <td>0.233333</td>\n",
       "      <td>positive</td>\n",
       "    </tr>\n",
       "    <tr>\n",
       "      <th>5787</th>\n",
       "      <td>kunleafolayan</td>\n",
       "      <td>2022-10-07 07:53:08+00:00</td>\n",
       "      <td>Lagos, Nigeria</td>\n",
       "      <td>170696</td>\n",
       "      <td>15413</td>\n",
       "      <td>3571</td>\n",
       "      <td>ANIKULAPO- Saro and Arolake finally resolved t...</td>\n",
       "      <td>[User(username='KunleRemi', id=318770652, disp...</td>\n",
       "      <td>[saro, arolake, finally, resolved, issues, wat...</td>\n",
       "      <td>KunleRemi,BimboAdemoye,kap_hub,goldeneffects</td>\n",
       "      <td>0.775</td>\n",
       "      <td>0.175000</td>\n",
       "      <td>positive</td>\n",
       "    </tr>\n",
       "    <tr>\n",
       "      <th>20102</th>\n",
       "      <td>SodiqAgb</td>\n",
       "      <td>2022-10-01 19:15:13+00:00</td>\n",
       "      <td>Metaverse 76H</td>\n",
       "      <td>384</td>\n",
       "      <td>10836</td>\n",
       "      <td>1606</td>\n",
       "      <td>Kunle Afolayan casted Hakeem Kazeem, a Hollywo...</td>\n",
       "      <td>NaN</td>\n",
       "      <td>[kunle, afolayan, casted, hakeem, kazeem, holl...</td>\n",
       "      <td></td>\n",
       "      <td>0.000</td>\n",
       "      <td>0.000000</td>\n",
       "      <td>neutral</td>\n",
       "    </tr>\n",
       "    <tr>\n",
       "      <th>21304</th>\n",
       "      <td>naijabased</td>\n",
       "      <td>2022-10-01 09:38:16+00:00</td>\n",
       "      <td>Nigeria</td>\n",
       "      <td>1920</td>\n",
       "      <td>2873</td>\n",
       "      <td>1539</td>\n",
       "      <td>Elders like this torchlight the way for the yo...</td>\n",
       "      <td>NaN</td>\n",
       "      <td>[elders, like, torchlight, way, youths, baba, ...</td>\n",
       "      <td></td>\n",
       "      <td>0.000</td>\n",
       "      <td>0.000000</td>\n",
       "      <td>neutral</td>\n",
       "    </tr>\n",
       "  </tbody>\n",
       "</table>\n",
       "</div>"
      ],
      "text/plain": [
       "                User              Date Created               location  \\\n",
       "21256     Fortis_OWO 2022-10-01 10:04:44+00:00  Wherever my heart is.   \n",
       "8599       DamiElebe 2022-10-05 11:23:44+00:00                    NaN   \n",
       "5787   kunleafolayan 2022-10-07 07:53:08+00:00         Lagos, Nigeria   \n",
       "20102       SodiqAgb 2022-10-01 19:15:13+00:00          Metaverse 76H   \n",
       "21304     naijabased 2022-10-01 09:38:16+00:00                Nigeria   \n",
       "\n",
       "       followers  Likes  retweet  \\\n",
       "21256      12280  22401     4076   \n",
       "8599      101501  14050     4038   \n",
       "5787      170696  15413     3571   \n",
       "20102        384  10836     1606   \n",
       "21304       1920   2873     1539   \n",
       "\n",
       "                                                   Tweet  \\\n",
       "21256  So Kunle Afolayan bought Acres of land in Ibad...   \n",
       "8599   Another Anikulapo lesson... And this one is fo...   \n",
       "5787   ANIKULAPO- Saro and Arolake finally resolved t...   \n",
       "20102  Kunle Afolayan casted Hakeem Kazeem, a Hollywo...   \n",
       "21304  Elders like this torchlight the way for the yo...   \n",
       "\n",
       "                                                Mentions  \\\n",
       "21256                                                NaN   \n",
       "8599                                                 NaN   \n",
       "5787   [User(username='KunleRemi', id=318770652, disp...   \n",
       "20102                                                NaN   \n",
       "21304                                                NaN   \n",
       "\n",
       "                                                   tweet  \\\n",
       "21256  [kunle, afolayan, bought, acres, land, ibadan,...   \n",
       "8599   [another, lesson, one, women, find, key, succe...   \n",
       "5787   [saro, arolake, finally, resolved, issues, wat...   \n",
       "20102  [kunle, afolayan, casted, hakeem, kazeem, holl...   \n",
       "21304  [elders, like, torchlight, way, youths, baba, ...   \n",
       "\n",
       "                                           mentions  subjectivity  polarity  \\\n",
       "21256                                                       0.000  0.000000   \n",
       "8599                                                        0.500  0.233333   \n",
       "5787   KunleRemi,BimboAdemoye,kap_hub,goldeneffects         0.775  0.175000   \n",
       "20102                                                       0.000  0.000000   \n",
       "21304                                                       0.000  0.000000   \n",
       "\n",
       "      sentiment  \n",
       "21256   neutral  \n",
       "8599   positive  \n",
       "5787   positive  \n",
       "20102   neutral  \n",
       "21304   neutral  "
      ]
     },
     "execution_count": 350,
     "metadata": {},
     "output_type": "execute_result"
    }
   ],
   "source": [
    "### Most Retweeted tweet\n",
    "copy1.sort_values(by=['retweet'], ascending=False)[:5]"
   ]
  },
  {
   "cell_type": "markdown",
   "id": "927cd650",
   "metadata": {},
   "source": [
    "### Dashboard <a class=\"anchor\" id=\"section_3_9\"></a>"
   ]
  },
  {
   "cell_type": "markdown",
   "id": "db924da3",
   "metadata": {},
   "source": [
    "## Google Trends Analysis <a class=\"anchor\" id=\"chapter5\"></a>"
   ]
  },
  {
   "cell_type": "markdown",
   "id": "efe9d6e3",
   "metadata": {},
   "source": [
    "### Nigeria Trend <a class=\"anchor\" id=\"section_3_1\"></a>"
   ]
  },
  {
   "cell_type": "code",
   "execution_count": 193,
   "id": "3a10e7f7",
   "metadata": {},
   "outputs": [],
   "source": [
    "regions = pd.read_excel('Nigeria.xlsx', sheet_name='GEO')\n",
    "local_queries = pd.read_excel('Nigeria.xlsx', sheet_name='top queries')\n",
    "local_topics = pd.read_excel('Nigeria.xlsx', sheet_name='top topics')\n",
    "local_timeline = pd.read_excel('Nigeria.xlsx', sheet_name='timeline', parse_dates=['Day'])"
   ]
  },
  {
   "cell_type": "code",
   "execution_count": null,
   "id": "274a102f",
   "metadata": {},
   "outputs": [],
   "source": [
    "#top regions"
   ]
  },
  {
   "cell_type": "code",
   "execution_count": 260,
   "id": "fa594682",
   "metadata": {},
   "outputs": [
    {
     "data": {
      "image/png": "[encoded data removed]",
      "text/plain": [
       "<Figure size 1584x1296 with 4 Axes>"
      ]
     },
     "metadata": {
      "needs_background": "light"
     },
     "output_type": "display_data"
    }
   ],
   "source": [
    "plt.figure(figsize = [22, 18])\n",
    "\n",
    "\n",
    "plt.subplot(2, 2, 1) \n",
    "default_color = sb.color_palette()[0]\n",
    "sb.barplot(data = regions[:10], x = 'Anikulapo: (29/09/2022 - 14/10/2022)', y= 'Region', color = default_color)\n",
    "x_y_t('count', 'States', 'Top States')\n",
    "\n",
    "plt.subplot(2, 2, 3) \n",
    "default_color = sb.color_palette()[0]\n",
    "sb.barplot(data = local_queries[:10], x = 'Unnamed: 1', y= 'TOP', color = default_color)\n",
    "x_y_t('count', 'queries', 'Top related queries')\n",
    "\n",
    "\n",
    "plt.subplot(2, 2, 4) \n",
    "default_color = sb.color_palette()[0]\n",
    "sb.barplot(data = local_topics[:10], x = 'Unnamed: 1', y= 'TOP', color = default_color)\n",
    "x_y_t('count', 'topics', 'Top related topics')\n",
    "\n",
    "\n",
    "plt.subplot(2, 2, 2) \n",
    "default_color = sb.color_palette()[0]\n",
    "sb.lineplot(data = local_timeline, x = 'Day', y= 'Anikulapo: (Nigeria)', color = default_color)\n",
    "x_y_t('count', 'topics', 'Local Interest over time')\n",
    "plt.xticks(rotation=45)\n",
    "\n",
    "\n",
    "plt.show()\n"
   ]
  },
  {
   "cell_type": "markdown",
   "id": "871a4e05",
   "metadata": {},
   "source": [
    "### Global Trend <a class=\"anchor\" id=\"section_5_2\"></a>"
   ]
  },
  {
   "cell_type": "code",
   "execution_count": 195,
   "id": "cba75309",
   "metadata": {},
   "outputs": [],
   "source": [
    "countries = pd.read_excel('Global.xlsx', sheet_name='Geo')\n",
    "global_queries = pd.read_excel('Global.xlsx', sheet_name='top queries')\n",
    "global_topics = pd.read_excel('Global.xlsx', sheet_name='top topics')\n",
    "global_timeline = pd.read_excel('Global.xlsx', sheet_name='timeline')"
   ]
  },
  {
   "cell_type": "code",
   "execution_count": 261,
   "id": "a4bed89f",
   "metadata": {},
   "outputs": [
    {
     "data": {
      "image/png": "[encoded data removed]",
      "text/plain": [
       "<Figure size 1584x1296 with 4 Axes>"
      ]
     },
     "metadata": {
      "needs_background": "light"
     },
     "output_type": "display_data"
    }
   ],
   "source": [
    "plt.figure(figsize = [22, 18])\n",
    "\n",
    "\n",
    "plt.subplot(2, 2, 1) \n",
    "default_color = sb.color_palette()[0]\n",
    "sb.barplot(data = countries[:10], x = 'Anikulapo: (29/09/2022 - 14/10/2022)', y= 'Country', color = default_color)\n",
    "x_y_t('count', 'Country', 'Top Countries')\n",
    "\n",
    "\n",
    "plt.subplot(2, 2, 3) \n",
    "default_color = sb.color_palette()[0]\n",
    "sb.barplot(data = global_queries[:10], x = 'Unnamed: 1', y= 'TOP', color = default_color)\n",
    "x_y_t('count', 'queries', 'Top related queries')\n",
    "\n",
    "\n",
    "plt.subplot(2, 2, 4) \n",
    "default_color = sb.color_palette()[0]\n",
    "sb.barplot(data = global_topics[:10], x = 'Unnamed: 1', y= 'TOP', color = default_color)\n",
    "x_y_t('count', 'topics', 'Top related topics')\n",
    "\n",
    "\n",
    "plt.subplot(2, 2, 2) \n",
    "default_color = sb.color_palette()[0]\n",
    "sb.lineplot(data = global_timeline, x = 'Day', y= 'Anikulapo: (Worldwide)', color = default_color)\n",
    "x_y_t('count', 'topics', 'Global Interest over time')\n",
    "plt.xticks(rotation=45)\n",
    "\n",
    "plt.show()\n"
   ]
  },
  {
   "cell_type": "markdown",
   "id": "36dbb415",
   "metadata": {},
   "source": [
    "## Conclusion\n",
    "\n",
    "### Time Range\n",
    "All data collected are between 29th of September and 14th of October ( A total of 15 days)\n",
    "\n",
    "\n",
    "### Performance\n",
    "The movie had a good overall rating from various platforms with a minimun of 53% from IMDb and a Maximum of 94% from Google users. considering the fact that the movie is in a local nigerian language(Yoruba), it gathered attention from various parts of the world. countries such as Martinique, Guadeloupe, Morocco, Réunion rank high \n",
    "\n",
    "### Netflix\n",
    "Attracting attention from 24 distinct countries, making top 10 in over 10 countries in its second week of release and a total view time of 14,440,00 is quite impresive and a good show for the movie.\n",
    "\n",
    "### Twitter\n",
    "\n",
    "Twitter was sent into frenzy upon release of the movie, particularly in its first week. With Saro and Arolake being the most talked about character and users engagement from countries such as Canada, UK, USA, and Ghana\n",
    "\n",
    "### Google Trend\n",
    "\n",
    "Considering the fact that the movie is of yoruba language, its no surprise to see south western states top the chart in local query. Likewise Western African countries lead the global query"
   ]
  },
  {
   "cell_type": "code",
   "execution_count": null,
   "id": "a360a080",
   "metadata": {},
   "outputs": [],
   "source": []
  }
 ],
 "metadata": {
  "kernelspec": {
   "display_name": "Python 3",
   "language": "python",
   "name": "python3"
  },
  "language_info": {
   "codemirror_mode": {
    "name": "ipython",
    "version": 3
   },
   "file_extension": ".py",
   "mimetype": "text/x-python",
   "name": "python",
   "nbconvert_exporter": "python",
   "pygments_lexer": "ipython3",
   "version": "3.8.8"
  }
 },
 "nbformat": 4,
 "nbformat_minor": 5
}
